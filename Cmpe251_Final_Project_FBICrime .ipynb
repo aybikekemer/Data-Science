{
 "cells": [
  {
   "cell_type": "code",
   "execution_count": 7,
   "metadata": {},
   "outputs": [
    {
     "data": {
      "text/html": [
       "        <script type=\"text/javascript\">\n",
       "        window.PlotlyConfig = {MathJaxConfig: 'local'};\n",
       "        if (window.MathJax) {MathJax.Hub.Config({SVG: {font: \"STIX-Web\"}});}\n",
       "        if (typeof require !== 'undefined') {\n",
       "        require.undef(\"plotly\");\n",
       "        requirejs.config({\n",
       "            paths: {\n",
       "                'plotly': ['https://cdn.plot.ly/plotly-latest.min']\n",
       "            }\n",
       "        });\n",
       "        require(['plotly'], function(Plotly) {\n",
       "            window._Plotly = Plotly;\n",
       "        });\n",
       "        }\n",
       "        </script>\n",
       "        "
      ]
     },
     "metadata": {},
     "output_type": "display_data"
    },
    {
     "data": {
      "text/html": [
       "        <script type=\"text/javascript\">\n",
       "        window.PlotlyConfig = {MathJaxConfig: 'local'};\n",
       "        if (window.MathJax) {MathJax.Hub.Config({SVG: {font: \"STIX-Web\"}});}\n",
       "        if (typeof require !== 'undefined') {\n",
       "        require.undef(\"plotly\");\n",
       "        requirejs.config({\n",
       "            paths: {\n",
       "                'plotly': ['https://cdn.plot.ly/plotly-latest.min']\n",
       "            }\n",
       "        });\n",
       "        require(['plotly'], function(Plotly) {\n",
       "            window._Plotly = Plotly;\n",
       "        });\n",
       "        }\n",
       "        </script>\n",
       "        "
      ]
     },
     "metadata": {},
     "output_type": "display_data"
    }
   ],
   "source": [
    "import json\n",
    "import requests\n",
    "import csv\n",
    "import pandas as pd\n",
    "import os, glob\n",
    "import seaborn as sns\n",
    "import matplotlib.pyplot as plt\n",
    "import chart_studio.plotly as py\n",
    "from plotly import __version__\n",
    "import cufflinks as cf\n",
    "from plotly.offline import download_plotlyjs,init_notebook_mode,plot,iplot\n",
    "init_notebook_mode(connected=True)\n",
    "cf.go_offline()\n",
    "import plotly.express as px\n",
    "from plotly import __version__\n",
    "from plotly.offline import download_plotlyjs,init_notebook_mode,plot,iplot"
   ]
  },
  {
   "cell_type": "markdown",
   "metadata": {},
   "source": [
    "# Collecting Data"
   ]
  },
  {
   "cell_type": "markdown",
   "metadata": {},
   "source": [
    "## Crime Data Explorer - An official website of the United States government"
   ]
  },
  {
   "cell_type": "code",
   "execution_count": 8,
   "metadata": {
    "scrolled": true
   },
   "outputs": [
    {
     "name": "stdout",
     "output_type": "stream",
     "text": [
      "{'results': [{'ori': 'HI0010000', 'data_year': 2006, 'offense': 'aggravated-assault', 'state_abbr': 'HI', 'cleared': 0, 'actual': 276}, {'ori': 'HI0010000', 'data_year': 2006, 'offense': 'violent-crime', 'state_abbr': 'HI', 'cleared': 0, 'actual': 432}, {'ori': 'HI0010000', 'data_year': 2006, 'offense': 'robbery', 'state_abbr': 'HI', 'cleared': 0, 'actual': 88}, {'ori': 'HI0010000', 'data_year': 2006, 'offense': 'rape-legacy', 'state_abbr': 'HI', 'cleared': 0, 'actual': 65}, {'ori': 'HI0010000', 'data_year': 2006, 'offense': 'rape', 'state_abbr': 'HI', 'cleared': 0, 'actual': 0}, {'ori': 'HI0010000', 'data_year': 2006, 'offense': 'property-crime', 'state_abbr': 'HI', 'cleared': 0, 'actual': 6327}, {'ori': 'HI0010000', 'data_year': 2006, 'offense': 'motor-vehicle-theft', 'state_abbr': 'HI', 'cleared': 0, 'actual': 608}, {'ori': 'HI0010000', 'data_year': 2006, 'offense': 'larceny', 'state_abbr': 'HI', 'cleared': 0, 'actual': 4293}, {'ori': 'HI0010000', 'data_year': 2006, 'offense': 'human-trafficing', 'state_abbr': 'HI', 'cleared': 0, 'actual': 0}, {'ori': 'HI0010000', 'data_year': 2006, 'offense': 'homicide', 'state_abbr': 'HI', 'cleared': 0, 'actual': 3}, {'ori': 'HI0010000', 'data_year': 2006, 'offense': 'burglary', 'state_abbr': 'HI', 'cleared': 0, 'actual': 1426}, {'ori': 'HI0010000', 'data_year': 2006, 'offense': 'arson', 'state_abbr': 'HI', 'cleared': 12, 'actual': 50}, {'ori': 'HI0010000', 'data_year': 2007, 'offense': 'human-trafficing', 'state_abbr': 'HI', 'cleared': 0, 'actual': 0}, {'ori': 'HI0010000', 'data_year': 2007, 'offense': 'rape-legacy', 'state_abbr': 'HI', 'cleared': 0, 'actual': 77}, {'ori': 'HI0010000', 'data_year': 2007, 'offense': 'rape', 'state_abbr': 'HI', 'cleared': 0, 'actual': 0}, {'ori': 'HI0010000', 'data_year': 2007, 'offense': 'property-crime', 'state_abbr': 'HI', 'cleared': 0, 'actual': 5919}, {'ori': 'HI0010000', 'data_year': 2007, 'offense': 'motor-vehicle-theft', 'state_abbr': 'HI', 'cleared': 0, 'actual': 542}, {'ori': 'HI0010000', 'data_year': 2007, 'offense': 'larceny', 'state_abbr': 'HI', 'cleared': 0, 'actual': 3996}, {'ori': 'HI0010000', 'data_year': 2007, 'offense': 'robbery', 'state_abbr': 'HI', 'cleared': 0, 'actual': 102}, {'ori': 'HI0010000', 'data_year': 2007, 'offense': 'homicide', 'state_abbr': 'HI', 'cleared': 0, 'actual': 5}, {'ori': 'HI0010000', 'data_year': 2007, 'offense': 'burglary', 'state_abbr': 'HI', 'cleared': 0, 'actual': 1381}, {'ori': 'HI0010000', 'data_year': 2007, 'offense': 'arson', 'state_abbr': 'HI', 'cleared': 16, 'actual': 79}, {'ori': 'HI0010000', 'data_year': 2007, 'offense': 'aggravated-assault', 'state_abbr': 'HI', 'cleared': 0, 'actual': 266}, {'ori': 'HI0010000', 'data_year': 2007, 'offense': 'violent-crime', 'state_abbr': 'HI', 'cleared': 0, 'actual': 450}, {'ori': 'HI0010000', 'data_year': 2008, 'offense': 'arson', 'state_abbr': 'HI', 'cleared': 12, 'actual': 67}, {'ori': 'HI0010000', 'data_year': 2008, 'offense': 'aggravated-assault', 'state_abbr': 'HI', 'cleared': 0, 'actual': 286}, {'ori': 'HI0010000', 'data_year': 2008, 'offense': 'burglary', 'state_abbr': 'HI', 'cleared': 0, 'actual': 1208}, {'ori': 'HI0010000', 'data_year': 2008, 'offense': 'homicide', 'state_abbr': 'HI', 'cleared': 0, 'actual': 4}, {'ori': 'HI0010000', 'data_year': 2008, 'offense': 'human-trafficing', 'state_abbr': 'HI', 'cleared': 0, 'actual': 0}, {'ori': 'HI0010000', 'data_year': 2008, 'offense': 'larceny', 'state_abbr': 'HI', 'cleared': 0, 'actual': 3796}, {'ori': 'HI0010000', 'data_year': 2008, 'offense': 'motor-vehicle-theft', 'state_abbr': 'HI', 'cleared': 0, 'actual': 490}, {'ori': 'HI0010000', 'data_year': 2008, 'offense': 'property-crime', 'state_abbr': 'HI', 'cleared': 0, 'actual': 5494}, {'ori': 'HI0010000', 'data_year': 2008, 'offense': 'rape', 'state_abbr': 'HI', 'cleared': 0, 'actual': 0}, {'ori': 'HI0010000', 'data_year': 2008, 'offense': 'rape-legacy', 'state_abbr': 'HI', 'cleared': 0, 'actual': 78}, {'ori': 'HI0010000', 'data_year': 2008, 'offense': 'robbery', 'state_abbr': 'HI', 'cleared': 0, 'actual': 73}, {'ori': 'HI0010000', 'data_year': 2008, 'offense': 'violent-crime', 'state_abbr': 'HI', 'cleared': 0, 'actual': 441}, {'ori': 'HI0010000', 'data_year': 2009, 'offense': 'homicide', 'state_abbr': 'HI', 'cleared': 0, 'actual': 5}, {'ori': 'HI0010000', 'data_year': 2009, 'offense': 'human-trafficing', 'state_abbr': 'HI', 'cleared': 0, 'actual': 0}, {'ori': 'HI0010000', 'data_year': 2009, 'offense': 'larceny', 'state_abbr': 'HI', 'cleared': 0, 'actual': 3855}, {'ori': 'HI0010000', 'data_year': 2009, 'offense': 'motor-vehicle-theft', 'state_abbr': 'HI', 'cleared': 0, 'actual': 473}, {'ori': 'HI0010000', 'data_year': 2009, 'offense': 'property-crime', 'state_abbr': 'HI', 'cleared': 0, 'actual': 5743}, {'ori': 'HI0010000', 'data_year': 2009, 'offense': 'rape', 'state_abbr': 'HI', 'cleared': 0, 'actual': 0}, {'ori': 'HI0010000', 'data_year': 2009, 'offense': 'rape-legacy', 'state_abbr': 'HI', 'cleared': 0, 'actual': 66}, {'ori': 'HI0010000', 'data_year': 2009, 'offense': 'robbery', 'state_abbr': 'HI', 'cleared': 0, 'actual': 67}, {'ori': 'HI0010000', 'data_year': 2009, 'offense': 'violent-crime', 'state_abbr': 'HI', 'cleared': 0, 'actual': 468}, {'ori': 'HI0010000', 'data_year': 2009, 'offense': 'aggravated-assault', 'state_abbr': 'HI', 'cleared': 0, 'actual': 330}, {'ori': 'HI0010000', 'data_year': 2009, 'offense': 'arson', 'state_abbr': 'HI', 'cleared': 6, 'actual': 28}, {'ori': 'HI0010000', 'data_year': 2009, 'offense': 'burglary', 'state_abbr': 'HI', 'cleared': 0, 'actual': 1415}, {'ori': 'HI0010000', 'data_year': 2010, 'offense': 'homicide', 'state_abbr': 'HI', 'cleared': 0, 'actual': 3}, {'ori': 'HI0010000', 'data_year': 2010, 'offense': 'human-trafficing', 'state_abbr': 'HI', 'cleared': 0, 'actual': 0}, {'ori': 'HI0010000', 'data_year': 2010, 'offense': 'larceny', 'state_abbr': 'HI', 'cleared': 0, 'actual': 3627}, {'ori': 'HI0010000', 'data_year': 2010, 'offense': 'motor-vehicle-theft', 'state_abbr': 'HI', 'cleared': 0, 'actual': 487}, {'ori': 'HI0010000', 'data_year': 2010, 'offense': 'property-crime', 'state_abbr': 'HI', 'cleared': 0, 'actual': 5255}, {'ori': 'HI0010000', 'data_year': 2010, 'offense': 'violent-crime', 'state_abbr': 'HI', 'cleared': 0, 'actual': 514}, {'ori': 'HI0010000', 'data_year': 2010, 'offense': 'burglary', 'state_abbr': 'HI', 'cleared': 0, 'actual': 1141}, {'ori': 'HI0010000', 'data_year': 2010, 'offense': 'arson', 'state_abbr': 'HI', 'cleared': 3, 'actual': 21}, {'ori': 'HI0010000', 'data_year': 2010, 'offense': 'aggravated-assault', 'state_abbr': 'HI', 'cleared': 0, 'actual': 347}, {'ori': 'HI0010000', 'data_year': 2010, 'offense': 'rape', 'state_abbr': 'HI', 'cleared': 0, 'actual': 0}, {'ori': 'HI0010000', 'data_year': 2010, 'offense': 'rape-legacy', 'state_abbr': 'HI', 'cleared': 0, 'actual': 85}, {'ori': 'HI0010000', 'data_year': 2010, 'offense': 'robbery', 'state_abbr': 'HI', 'cleared': 0, 'actual': 79}, {'ori': 'HI0010000', 'data_year': 2011, 'offense': 'aggravated-assault', 'state_abbr': 'HI', 'cleared': 0, 'actual': 363}, {'ori': 'HI0010000', 'data_year': 2011, 'offense': 'violent-crime', 'state_abbr': 'HI', 'cleared': 0, 'actual': 490}, {'ori': 'HI0010000', 'data_year': 2011, 'offense': 'robbery', 'state_abbr': 'HI', 'cleared': 0, 'actual': 62}, {'ori': 'HI0010000', 'data_year': 2011, 'offense': 'rape-legacy', 'state_abbr': 'HI', 'cleared': 0, 'actual': 63}, {'ori': 'HI0010000', 'data_year': 2011, 'offense': 'rape', 'state_abbr': 'HI', 'cleared': 0, 'actual': 0}, {'ori': 'HI0010000', 'data_year': 2011, 'offense': 'property-crime', 'state_abbr': 'HI', 'cleared': 0, 'actual': 4710}, {'ori': 'HI0010000', 'data_year': 2011, 'offense': 'motor-vehicle-theft', 'state_abbr': 'HI', 'cleared': 0, 'actual': 404}, {'ori': 'HI0010000', 'data_year': 2011, 'offense': 'larceny', 'state_abbr': 'HI', 'cleared': 0, 'actual': 3360}, {'ori': 'HI0010000', 'data_year': 2011, 'offense': 'human-trafficing', 'state_abbr': 'HI', 'cleared': 0, 'actual': 0}, {'ori': 'HI0010000', 'data_year': 2011, 'offense': 'homicide', 'state_abbr': 'HI', 'cleared': 0, 'actual': 2}, {'ori': 'HI0010000', 'data_year': 2011, 'offense': 'burglary', 'state_abbr': 'HI', 'cleared': 0, 'actual': 946}, {'ori': 'HI0010000', 'data_year': 2011, 'offense': 'arson', 'state_abbr': 'HI', 'cleared': 6, 'actual': 39}, {'ori': 'HI0010000', 'data_year': 2012, 'offense': 'rape', 'state_abbr': 'HI', 'cleared': 0, 'actual': 0}, {'ori': 'HI0010000', 'data_year': 2012, 'offense': 'violent-crime', 'state_abbr': 'HI', 'cleared': 246, 'actual': 421}, {'ori': 'HI0010000', 'data_year': 2012, 'offense': 'robbery', 'state_abbr': 'HI', 'cleared': 40, 'actual': 74}, {'ori': 'HI0010000', 'data_year': 2012, 'offense': 'rape-legacy', 'state_abbr': 'HI', 'cleared': 10, 'actual': 41}, {'ori': 'HI0010000', 'data_year': 2012, 'offense': 'property-crime', 'state_abbr': 'HI', 'cleared': 1195, 'actual': 5378}, {'ori': 'HI0010000', 'data_year': 2012, 'offense': 'motor-vehicle-theft', 'state_abbr': 'HI', 'cleared': 85, 'actual': 443}, {'ori': 'HI0010000', 'data_year': 2012, 'offense': 'larceny', 'state_abbr': 'HI', 'cleared': 976, 'actual': 3751}, {'ori': 'HI0010000', 'data_year': 2012, 'offense': 'human-trafficing', 'state_abbr': 'HI', 'cleared': 0, 'actual': 0}, {'ori': 'HI0010000', 'data_year': 2012, 'offense': 'homicide', 'state_abbr': 'HI', 'cleared': 5, 'actual': 5}, {'ori': 'HI0010000', 'data_year': 2012, 'offense': 'aggravated-assault', 'state_abbr': 'HI', 'cleared': 191, 'actual': 301}, {'ori': 'HI0010000', 'data_year': 2012, 'offense': 'arson', 'state_abbr': 'HI', 'cleared': 5, 'actual': 19}, {'ori': 'HI0010000', 'data_year': 2012, 'offense': 'burglary', 'state_abbr': 'HI', 'cleared': 134, 'actual': 1184}, {'ori': 'HI0010000', 'data_year': 2013, 'offense': 'aggravated-assault', 'state_abbr': 'HI', 'cleared': 261, 'actual': 394}, {'ori': 'HI0010000', 'data_year': 2013, 'offense': 'violent-crime', 'state_abbr': 'HI', 'cleared': 327, 'actual': 547}, {'ori': 'HI0010000', 'data_year': 2013, 'offense': 'robbery', 'state_abbr': 'HI', 'cleared': 46, 'actual': 89}, {'ori': 'HI0010000', 'data_year': 2013, 'offense': 'rape-legacy', 'state_abbr': 'HI', 'cleared': 13, 'actual': 55}, {'ori': 'HI0010000', 'data_year': 2013, 'offense': 'rape', 'state_abbr': 'HI', 'cleared': 0, 'actual': 0}, {'ori': 'HI0010000', 'data_year': 2013, 'offense': 'property-crime', 'state_abbr': 'HI', 'cleared': 1121, 'actual': 5286}, {'ori': 'HI0010000', 'data_year': 2013, 'offense': 'motor-vehicle-theft', 'state_abbr': 'HI', 'cleared': 81, 'actual': 421}, {'ori': 'HI0010000', 'data_year': 2013, 'offense': 'larceny', 'state_abbr': 'HI', 'cleared': 924, 'actual': 3727}, {'ori': 'HI0010000', 'data_year': 2013, 'offense': 'human-trafficing', 'state_abbr': 'HI', 'cleared': 0, 'actual': 0}, {'ori': 'HI0010000', 'data_year': 2013, 'offense': 'homicide', 'state_abbr': 'HI', 'cleared': 7, 'actual': 9}, {'ori': 'HI0010000', 'data_year': 2013, 'offense': 'burglary', 'state_abbr': 'HI', 'cleared': 116, 'actual': 1138}, {'ori': 'HI0010000', 'data_year': 2013, 'offense': 'arson', 'state_abbr': 'HI', 'cleared': 4, 'actual': 32}, {'ori': 'HI0010000', 'data_year': 2014, 'offense': 'burglary', 'state_abbr': 'HI', 'cleared': 138, 'actual': 1198}, {'ori': 'HI0010000', 'data_year': 2014, 'offense': 'motor-vehicle-theft', 'state_abbr': 'HI', 'cleared': 167, 'actual': 732}, {'ori': 'HI0010000', 'data_year': 2014, 'offense': 'property-crime', 'state_abbr': 'HI', 'cleared': 1445, 'actual': 6725}, {'ori': 'HI0010000', 'data_year': 2014, 'offense': 'rape', 'state_abbr': 'HI', 'cleared': 55, 'actual': 103}, {'ori': 'HI0010000', 'data_year': 2014, 'offense': 'rape-legacy', 'state_abbr': 'HI', 'cleared': 0, 'actual': 0}, {'ori': 'HI0010000', 'data_year': 2014, 'offense': 'robbery', 'state_abbr': 'HI', 'cleared': 32, 'actual': 78}, {'ori': 'HI0010000', 'data_year': 2014, 'offense': 'violent-crime', 'state_abbr': 'HI', 'cleared': 295, 'actual': 457}, {'ori': 'HI0010000', 'data_year': 2014, 'offense': 'human-trafficing', 'state_abbr': 'HI', 'cleared': 0, 'actual': 0}, {'ori': 'HI0010000', 'data_year': 2014, 'offense': 'aggravated-assault', 'state_abbr': 'HI', 'cleared': 205, 'actual': 273}, {'ori': 'HI0010000', 'data_year': 2014, 'offense': 'arson', 'state_abbr': 'HI', 'cleared': 7, 'actual': 18}, {'ori': 'HI0010000', 'data_year': 2014, 'offense': 'larceny', 'state_abbr': 'HI', 'cleared': 1140, 'actual': 4795}, {'ori': 'HI0010000', 'data_year': 2014, 'offense': 'homicide', 'state_abbr': 'HI', 'cleared': 3, 'actual': 3}, {'ori': 'HI0010000', 'data_year': 2015, 'offense': 'larceny', 'state_abbr': 'HI', 'cleared': 1017, 'actual': 4725}, {'ori': 'HI0010000', 'data_year': 2015, 'offense': 'violent-crime', 'state_abbr': 'HI', 'cleared': 247, 'actual': 401}, {'ori': 'HI0010000', 'data_year': 2015, 'offense': 'robbery', 'state_abbr': 'HI', 'cleared': 28, 'actual': 54}, {'ori': 'HI0010000', 'data_year': 2015, 'offense': 'rape-legacy', 'state_abbr': 'HI', 'cleared': 0, 'actual': 0}, {'ori': 'HI0010000', 'data_year': 2015, 'offense': 'rape', 'state_abbr': 'HI', 'cleared': 56, 'actual': 95}, {'ori': 'HI0010000', 'data_year': 2015, 'offense': 'property-crime', 'state_abbr': 'HI', 'cleared': 1406, 'actual': 6695}, {'ori': 'HI0010000', 'data_year': 2015, 'offense': 'motor-vehicle-theft', 'state_abbr': 'HI', 'cleared': 237, 'actual': 909}, {'ori': 'HI0010000', 'data_year': 2015, 'offense': 'human-trafficing', 'state_abbr': 'HI', 'cleared': 0, 'actual': 0}, {'ori': 'HI0010000', 'data_year': 2015, 'offense': 'homicide', 'state_abbr': 'HI', 'cleared': 6, 'actual': 8}, {'ori': 'HI0010000', 'data_year': 2015, 'offense': 'burglary', 'state_abbr': 'HI', 'cleared': 152, 'actual': 1061}, {'ori': 'HI0010000', 'data_year': 2015, 'offense': 'arson', 'state_abbr': 'HI', 'cleared': 10, 'actual': 31}, {'ori': 'HI0010000', 'data_year': 2015, 'offense': 'aggravated-assault', 'state_abbr': 'HI', 'cleared': 157, 'actual': 244}, {'ori': 'HI0010000', 'data_year': 2016, 'offense': 'human-trafficing', 'state_abbr': 'HI', 'cleared': 0, 'actual': 0}, {'ori': 'HI0010000', 'data_year': 2016, 'offense': 'arson', 'state_abbr': 'HI', 'cleared': 12, 'actual': 41}, {'ori': 'HI0010000', 'data_year': 2016, 'offense': 'aggravated-assault', 'state_abbr': 'HI', 'cleared': 192, 'actual': 274}, {'ori': 'HI0010000', 'data_year': 2016, 'offense': 'burglary', 'state_abbr': 'HI', 'cleared': 128, 'actual': 823}, {'ori': 'HI0010000', 'data_year': 2016, 'offense': 'homicide', 'state_abbr': 'HI', 'cleared': 8, 'actual': 9}, {'ori': 'HI0010000', 'data_year': 2016, 'offense': 'violent-crime', 'state_abbr': 'HI', 'cleared': 278, 'actual': 467}, {'ori': 'HI0010000', 'data_year': 2016, 'offense': 'robbery', 'state_abbr': 'HI', 'cleared': 30, 'actual': 69}, {'ori': 'HI0010000', 'data_year': 2016, 'offense': 'rape-legacy', 'state_abbr': 'HI', 'cleared': 0, 'actual': 0}, {'ori': 'HI0010000', 'data_year': 2016, 'offense': 'rape', 'state_abbr': 'HI', 'cleared': 48, 'actual': 115}, {'ori': 'HI0010000', 'data_year': 2016, 'offense': 'property-crime', 'state_abbr': 'HI', 'cleared': 1166, 'actual': 4928}, {'ori': 'HI0010000', 'data_year': 2016, 'offense': 'motor-vehicle-theft', 'state_abbr': 'HI', 'cleared': 167, 'actual': 525}, {'ori': 'HI0010000', 'data_year': 2016, 'offense': 'larceny', 'state_abbr': 'HI', 'cleared': 871, 'actual': 3580}], 'pagination': {'count': 132, 'page': 0, 'pages': 1, 'per_page': 0}}\n"
     ]
    }
   ],
   "source": [
    "dataframe = requests.get(\"https://api.usa.gov/crime/fbi/sapi/api/summarized/agencies/HI0010000/offenses/2006/2016?API_KEY=CABGsSGomgmMdgoSjqS4KJt2cif8Ujffe3l5BOsP\")\n",
    "crime_1 = json.loads(dataframe.text)\n",
    "print(crime_1)"
   ]
  },
  {
   "cell_type": "code",
   "execution_count": 9,
   "metadata": {},
   "outputs": [
    {
     "data": {
      "text/plain": [
       "dict_keys(['results', 'pagination'])"
      ]
     },
     "execution_count": 9,
     "metadata": {},
     "output_type": "execute_result"
    }
   ],
   "source": [
    "crime_1.keys()"
   ]
  },
  {
   "cell_type": "code",
   "execution_count": 10,
   "metadata": {},
   "outputs": [
    {
     "data": {
      "text/plain": [
       "[{'ori': 'HI0010000',\n",
       "  'data_year': 2006,\n",
       "  'offense': 'aggravated-assault',\n",
       "  'state_abbr': 'HI',\n",
       "  'cleared': 0,\n",
       "  'actual': 276},\n",
       " {'ori': 'HI0010000',\n",
       "  'data_year': 2006,\n",
       "  'offense': 'violent-crime',\n",
       "  'state_abbr': 'HI',\n",
       "  'cleared': 0,\n",
       "  'actual': 432},\n",
       " {'ori': 'HI0010000',\n",
       "  'data_year': 2006,\n",
       "  'offense': 'robbery',\n",
       "  'state_abbr': 'HI',\n",
       "  'cleared': 0,\n",
       "  'actual': 88},\n",
       " {'ori': 'HI0010000',\n",
       "  'data_year': 2006,\n",
       "  'offense': 'rape-legacy',\n",
       "  'state_abbr': 'HI',\n",
       "  'cleared': 0,\n",
       "  'actual': 65},\n",
       " {'ori': 'HI0010000',\n",
       "  'data_year': 2006,\n",
       "  'offense': 'rape',\n",
       "  'state_abbr': 'HI',\n",
       "  'cleared': 0,\n",
       "  'actual': 0},\n",
       " {'ori': 'HI0010000',\n",
       "  'data_year': 2006,\n",
       "  'offense': 'property-crime',\n",
       "  'state_abbr': 'HI',\n",
       "  'cleared': 0,\n",
       "  'actual': 6327},\n",
       " {'ori': 'HI0010000',\n",
       "  'data_year': 2006,\n",
       "  'offense': 'motor-vehicle-theft',\n",
       "  'state_abbr': 'HI',\n",
       "  'cleared': 0,\n",
       "  'actual': 608},\n",
       " {'ori': 'HI0010000',\n",
       "  'data_year': 2006,\n",
       "  'offense': 'larceny',\n",
       "  'state_abbr': 'HI',\n",
       "  'cleared': 0,\n",
       "  'actual': 4293},\n",
       " {'ori': 'HI0010000',\n",
       "  'data_year': 2006,\n",
       "  'offense': 'human-trafficing',\n",
       "  'state_abbr': 'HI',\n",
       "  'cleared': 0,\n",
       "  'actual': 0},\n",
       " {'ori': 'HI0010000',\n",
       "  'data_year': 2006,\n",
       "  'offense': 'homicide',\n",
       "  'state_abbr': 'HI',\n",
       "  'cleared': 0,\n",
       "  'actual': 3},\n",
       " {'ori': 'HI0010000',\n",
       "  'data_year': 2006,\n",
       "  'offense': 'burglary',\n",
       "  'state_abbr': 'HI',\n",
       "  'cleared': 0,\n",
       "  'actual': 1426},\n",
       " {'ori': 'HI0010000',\n",
       "  'data_year': 2006,\n",
       "  'offense': 'arson',\n",
       "  'state_abbr': 'HI',\n",
       "  'cleared': 12,\n",
       "  'actual': 50},\n",
       " {'ori': 'HI0010000',\n",
       "  'data_year': 2007,\n",
       "  'offense': 'human-trafficing',\n",
       "  'state_abbr': 'HI',\n",
       "  'cleared': 0,\n",
       "  'actual': 0},\n",
       " {'ori': 'HI0010000',\n",
       "  'data_year': 2007,\n",
       "  'offense': 'rape-legacy',\n",
       "  'state_abbr': 'HI',\n",
       "  'cleared': 0,\n",
       "  'actual': 77},\n",
       " {'ori': 'HI0010000',\n",
       "  'data_year': 2007,\n",
       "  'offense': 'rape',\n",
       "  'state_abbr': 'HI',\n",
       "  'cleared': 0,\n",
       "  'actual': 0},\n",
       " {'ori': 'HI0010000',\n",
       "  'data_year': 2007,\n",
       "  'offense': 'property-crime',\n",
       "  'state_abbr': 'HI',\n",
       "  'cleared': 0,\n",
       "  'actual': 5919},\n",
       " {'ori': 'HI0010000',\n",
       "  'data_year': 2007,\n",
       "  'offense': 'motor-vehicle-theft',\n",
       "  'state_abbr': 'HI',\n",
       "  'cleared': 0,\n",
       "  'actual': 542},\n",
       " {'ori': 'HI0010000',\n",
       "  'data_year': 2007,\n",
       "  'offense': 'larceny',\n",
       "  'state_abbr': 'HI',\n",
       "  'cleared': 0,\n",
       "  'actual': 3996},\n",
       " {'ori': 'HI0010000',\n",
       "  'data_year': 2007,\n",
       "  'offense': 'robbery',\n",
       "  'state_abbr': 'HI',\n",
       "  'cleared': 0,\n",
       "  'actual': 102},\n",
       " {'ori': 'HI0010000',\n",
       "  'data_year': 2007,\n",
       "  'offense': 'homicide',\n",
       "  'state_abbr': 'HI',\n",
       "  'cleared': 0,\n",
       "  'actual': 5},\n",
       " {'ori': 'HI0010000',\n",
       "  'data_year': 2007,\n",
       "  'offense': 'burglary',\n",
       "  'state_abbr': 'HI',\n",
       "  'cleared': 0,\n",
       "  'actual': 1381},\n",
       " {'ori': 'HI0010000',\n",
       "  'data_year': 2007,\n",
       "  'offense': 'arson',\n",
       "  'state_abbr': 'HI',\n",
       "  'cleared': 16,\n",
       "  'actual': 79},\n",
       " {'ori': 'HI0010000',\n",
       "  'data_year': 2007,\n",
       "  'offense': 'aggravated-assault',\n",
       "  'state_abbr': 'HI',\n",
       "  'cleared': 0,\n",
       "  'actual': 266},\n",
       " {'ori': 'HI0010000',\n",
       "  'data_year': 2007,\n",
       "  'offense': 'violent-crime',\n",
       "  'state_abbr': 'HI',\n",
       "  'cleared': 0,\n",
       "  'actual': 450},\n",
       " {'ori': 'HI0010000',\n",
       "  'data_year': 2008,\n",
       "  'offense': 'arson',\n",
       "  'state_abbr': 'HI',\n",
       "  'cleared': 12,\n",
       "  'actual': 67},\n",
       " {'ori': 'HI0010000',\n",
       "  'data_year': 2008,\n",
       "  'offense': 'aggravated-assault',\n",
       "  'state_abbr': 'HI',\n",
       "  'cleared': 0,\n",
       "  'actual': 286},\n",
       " {'ori': 'HI0010000',\n",
       "  'data_year': 2008,\n",
       "  'offense': 'burglary',\n",
       "  'state_abbr': 'HI',\n",
       "  'cleared': 0,\n",
       "  'actual': 1208},\n",
       " {'ori': 'HI0010000',\n",
       "  'data_year': 2008,\n",
       "  'offense': 'homicide',\n",
       "  'state_abbr': 'HI',\n",
       "  'cleared': 0,\n",
       "  'actual': 4},\n",
       " {'ori': 'HI0010000',\n",
       "  'data_year': 2008,\n",
       "  'offense': 'human-trafficing',\n",
       "  'state_abbr': 'HI',\n",
       "  'cleared': 0,\n",
       "  'actual': 0},\n",
       " {'ori': 'HI0010000',\n",
       "  'data_year': 2008,\n",
       "  'offense': 'larceny',\n",
       "  'state_abbr': 'HI',\n",
       "  'cleared': 0,\n",
       "  'actual': 3796},\n",
       " {'ori': 'HI0010000',\n",
       "  'data_year': 2008,\n",
       "  'offense': 'motor-vehicle-theft',\n",
       "  'state_abbr': 'HI',\n",
       "  'cleared': 0,\n",
       "  'actual': 490},\n",
       " {'ori': 'HI0010000',\n",
       "  'data_year': 2008,\n",
       "  'offense': 'property-crime',\n",
       "  'state_abbr': 'HI',\n",
       "  'cleared': 0,\n",
       "  'actual': 5494},\n",
       " {'ori': 'HI0010000',\n",
       "  'data_year': 2008,\n",
       "  'offense': 'rape',\n",
       "  'state_abbr': 'HI',\n",
       "  'cleared': 0,\n",
       "  'actual': 0},\n",
       " {'ori': 'HI0010000',\n",
       "  'data_year': 2008,\n",
       "  'offense': 'rape-legacy',\n",
       "  'state_abbr': 'HI',\n",
       "  'cleared': 0,\n",
       "  'actual': 78},\n",
       " {'ori': 'HI0010000',\n",
       "  'data_year': 2008,\n",
       "  'offense': 'robbery',\n",
       "  'state_abbr': 'HI',\n",
       "  'cleared': 0,\n",
       "  'actual': 73},\n",
       " {'ori': 'HI0010000',\n",
       "  'data_year': 2008,\n",
       "  'offense': 'violent-crime',\n",
       "  'state_abbr': 'HI',\n",
       "  'cleared': 0,\n",
       "  'actual': 441},\n",
       " {'ori': 'HI0010000',\n",
       "  'data_year': 2009,\n",
       "  'offense': 'homicide',\n",
       "  'state_abbr': 'HI',\n",
       "  'cleared': 0,\n",
       "  'actual': 5},\n",
       " {'ori': 'HI0010000',\n",
       "  'data_year': 2009,\n",
       "  'offense': 'human-trafficing',\n",
       "  'state_abbr': 'HI',\n",
       "  'cleared': 0,\n",
       "  'actual': 0},\n",
       " {'ori': 'HI0010000',\n",
       "  'data_year': 2009,\n",
       "  'offense': 'larceny',\n",
       "  'state_abbr': 'HI',\n",
       "  'cleared': 0,\n",
       "  'actual': 3855},\n",
       " {'ori': 'HI0010000',\n",
       "  'data_year': 2009,\n",
       "  'offense': 'motor-vehicle-theft',\n",
       "  'state_abbr': 'HI',\n",
       "  'cleared': 0,\n",
       "  'actual': 473},\n",
       " {'ori': 'HI0010000',\n",
       "  'data_year': 2009,\n",
       "  'offense': 'property-crime',\n",
       "  'state_abbr': 'HI',\n",
       "  'cleared': 0,\n",
       "  'actual': 5743},\n",
       " {'ori': 'HI0010000',\n",
       "  'data_year': 2009,\n",
       "  'offense': 'rape',\n",
       "  'state_abbr': 'HI',\n",
       "  'cleared': 0,\n",
       "  'actual': 0},\n",
       " {'ori': 'HI0010000',\n",
       "  'data_year': 2009,\n",
       "  'offense': 'rape-legacy',\n",
       "  'state_abbr': 'HI',\n",
       "  'cleared': 0,\n",
       "  'actual': 66},\n",
       " {'ori': 'HI0010000',\n",
       "  'data_year': 2009,\n",
       "  'offense': 'robbery',\n",
       "  'state_abbr': 'HI',\n",
       "  'cleared': 0,\n",
       "  'actual': 67},\n",
       " {'ori': 'HI0010000',\n",
       "  'data_year': 2009,\n",
       "  'offense': 'violent-crime',\n",
       "  'state_abbr': 'HI',\n",
       "  'cleared': 0,\n",
       "  'actual': 468},\n",
       " {'ori': 'HI0010000',\n",
       "  'data_year': 2009,\n",
       "  'offense': 'aggravated-assault',\n",
       "  'state_abbr': 'HI',\n",
       "  'cleared': 0,\n",
       "  'actual': 330},\n",
       " {'ori': 'HI0010000',\n",
       "  'data_year': 2009,\n",
       "  'offense': 'arson',\n",
       "  'state_abbr': 'HI',\n",
       "  'cleared': 6,\n",
       "  'actual': 28},\n",
       " {'ori': 'HI0010000',\n",
       "  'data_year': 2009,\n",
       "  'offense': 'burglary',\n",
       "  'state_abbr': 'HI',\n",
       "  'cleared': 0,\n",
       "  'actual': 1415},\n",
       " {'ori': 'HI0010000',\n",
       "  'data_year': 2010,\n",
       "  'offense': 'homicide',\n",
       "  'state_abbr': 'HI',\n",
       "  'cleared': 0,\n",
       "  'actual': 3},\n",
       " {'ori': 'HI0010000',\n",
       "  'data_year': 2010,\n",
       "  'offense': 'human-trafficing',\n",
       "  'state_abbr': 'HI',\n",
       "  'cleared': 0,\n",
       "  'actual': 0},\n",
       " {'ori': 'HI0010000',\n",
       "  'data_year': 2010,\n",
       "  'offense': 'larceny',\n",
       "  'state_abbr': 'HI',\n",
       "  'cleared': 0,\n",
       "  'actual': 3627},\n",
       " {'ori': 'HI0010000',\n",
       "  'data_year': 2010,\n",
       "  'offense': 'motor-vehicle-theft',\n",
       "  'state_abbr': 'HI',\n",
       "  'cleared': 0,\n",
       "  'actual': 487},\n",
       " {'ori': 'HI0010000',\n",
       "  'data_year': 2010,\n",
       "  'offense': 'property-crime',\n",
       "  'state_abbr': 'HI',\n",
       "  'cleared': 0,\n",
       "  'actual': 5255},\n",
       " {'ori': 'HI0010000',\n",
       "  'data_year': 2010,\n",
       "  'offense': 'violent-crime',\n",
       "  'state_abbr': 'HI',\n",
       "  'cleared': 0,\n",
       "  'actual': 514},\n",
       " {'ori': 'HI0010000',\n",
       "  'data_year': 2010,\n",
       "  'offense': 'burglary',\n",
       "  'state_abbr': 'HI',\n",
       "  'cleared': 0,\n",
       "  'actual': 1141},\n",
       " {'ori': 'HI0010000',\n",
       "  'data_year': 2010,\n",
       "  'offense': 'arson',\n",
       "  'state_abbr': 'HI',\n",
       "  'cleared': 3,\n",
       "  'actual': 21},\n",
       " {'ori': 'HI0010000',\n",
       "  'data_year': 2010,\n",
       "  'offense': 'aggravated-assault',\n",
       "  'state_abbr': 'HI',\n",
       "  'cleared': 0,\n",
       "  'actual': 347},\n",
       " {'ori': 'HI0010000',\n",
       "  'data_year': 2010,\n",
       "  'offense': 'rape',\n",
       "  'state_abbr': 'HI',\n",
       "  'cleared': 0,\n",
       "  'actual': 0},\n",
       " {'ori': 'HI0010000',\n",
       "  'data_year': 2010,\n",
       "  'offense': 'rape-legacy',\n",
       "  'state_abbr': 'HI',\n",
       "  'cleared': 0,\n",
       "  'actual': 85},\n",
       " {'ori': 'HI0010000',\n",
       "  'data_year': 2010,\n",
       "  'offense': 'robbery',\n",
       "  'state_abbr': 'HI',\n",
       "  'cleared': 0,\n",
       "  'actual': 79},\n",
       " {'ori': 'HI0010000',\n",
       "  'data_year': 2011,\n",
       "  'offense': 'aggravated-assault',\n",
       "  'state_abbr': 'HI',\n",
       "  'cleared': 0,\n",
       "  'actual': 363},\n",
       " {'ori': 'HI0010000',\n",
       "  'data_year': 2011,\n",
       "  'offense': 'violent-crime',\n",
       "  'state_abbr': 'HI',\n",
       "  'cleared': 0,\n",
       "  'actual': 490},\n",
       " {'ori': 'HI0010000',\n",
       "  'data_year': 2011,\n",
       "  'offense': 'robbery',\n",
       "  'state_abbr': 'HI',\n",
       "  'cleared': 0,\n",
       "  'actual': 62},\n",
       " {'ori': 'HI0010000',\n",
       "  'data_year': 2011,\n",
       "  'offense': 'rape-legacy',\n",
       "  'state_abbr': 'HI',\n",
       "  'cleared': 0,\n",
       "  'actual': 63},\n",
       " {'ori': 'HI0010000',\n",
       "  'data_year': 2011,\n",
       "  'offense': 'rape',\n",
       "  'state_abbr': 'HI',\n",
       "  'cleared': 0,\n",
       "  'actual': 0},\n",
       " {'ori': 'HI0010000',\n",
       "  'data_year': 2011,\n",
       "  'offense': 'property-crime',\n",
       "  'state_abbr': 'HI',\n",
       "  'cleared': 0,\n",
       "  'actual': 4710},\n",
       " {'ori': 'HI0010000',\n",
       "  'data_year': 2011,\n",
       "  'offense': 'motor-vehicle-theft',\n",
       "  'state_abbr': 'HI',\n",
       "  'cleared': 0,\n",
       "  'actual': 404},\n",
       " {'ori': 'HI0010000',\n",
       "  'data_year': 2011,\n",
       "  'offense': 'larceny',\n",
       "  'state_abbr': 'HI',\n",
       "  'cleared': 0,\n",
       "  'actual': 3360},\n",
       " {'ori': 'HI0010000',\n",
       "  'data_year': 2011,\n",
       "  'offense': 'human-trafficing',\n",
       "  'state_abbr': 'HI',\n",
       "  'cleared': 0,\n",
       "  'actual': 0},\n",
       " {'ori': 'HI0010000',\n",
       "  'data_year': 2011,\n",
       "  'offense': 'homicide',\n",
       "  'state_abbr': 'HI',\n",
       "  'cleared': 0,\n",
       "  'actual': 2},\n",
       " {'ori': 'HI0010000',\n",
       "  'data_year': 2011,\n",
       "  'offense': 'burglary',\n",
       "  'state_abbr': 'HI',\n",
       "  'cleared': 0,\n",
       "  'actual': 946},\n",
       " {'ori': 'HI0010000',\n",
       "  'data_year': 2011,\n",
       "  'offense': 'arson',\n",
       "  'state_abbr': 'HI',\n",
       "  'cleared': 6,\n",
       "  'actual': 39},\n",
       " {'ori': 'HI0010000',\n",
       "  'data_year': 2012,\n",
       "  'offense': 'rape',\n",
       "  'state_abbr': 'HI',\n",
       "  'cleared': 0,\n",
       "  'actual': 0},\n",
       " {'ori': 'HI0010000',\n",
       "  'data_year': 2012,\n",
       "  'offense': 'violent-crime',\n",
       "  'state_abbr': 'HI',\n",
       "  'cleared': 246,\n",
       "  'actual': 421},\n",
       " {'ori': 'HI0010000',\n",
       "  'data_year': 2012,\n",
       "  'offense': 'robbery',\n",
       "  'state_abbr': 'HI',\n",
       "  'cleared': 40,\n",
       "  'actual': 74},\n",
       " {'ori': 'HI0010000',\n",
       "  'data_year': 2012,\n",
       "  'offense': 'rape-legacy',\n",
       "  'state_abbr': 'HI',\n",
       "  'cleared': 10,\n",
       "  'actual': 41},\n",
       " {'ori': 'HI0010000',\n",
       "  'data_year': 2012,\n",
       "  'offense': 'property-crime',\n",
       "  'state_abbr': 'HI',\n",
       "  'cleared': 1195,\n",
       "  'actual': 5378},\n",
       " {'ori': 'HI0010000',\n",
       "  'data_year': 2012,\n",
       "  'offense': 'motor-vehicle-theft',\n",
       "  'state_abbr': 'HI',\n",
       "  'cleared': 85,\n",
       "  'actual': 443},\n",
       " {'ori': 'HI0010000',\n",
       "  'data_year': 2012,\n",
       "  'offense': 'larceny',\n",
       "  'state_abbr': 'HI',\n",
       "  'cleared': 976,\n",
       "  'actual': 3751},\n",
       " {'ori': 'HI0010000',\n",
       "  'data_year': 2012,\n",
       "  'offense': 'human-trafficing',\n",
       "  'state_abbr': 'HI',\n",
       "  'cleared': 0,\n",
       "  'actual': 0},\n",
       " {'ori': 'HI0010000',\n",
       "  'data_year': 2012,\n",
       "  'offense': 'homicide',\n",
       "  'state_abbr': 'HI',\n",
       "  'cleared': 5,\n",
       "  'actual': 5},\n",
       " {'ori': 'HI0010000',\n",
       "  'data_year': 2012,\n",
       "  'offense': 'aggravated-assault',\n",
       "  'state_abbr': 'HI',\n",
       "  'cleared': 191,\n",
       "  'actual': 301},\n",
       " {'ori': 'HI0010000',\n",
       "  'data_year': 2012,\n",
       "  'offense': 'arson',\n",
       "  'state_abbr': 'HI',\n",
       "  'cleared': 5,\n",
       "  'actual': 19},\n",
       " {'ori': 'HI0010000',\n",
       "  'data_year': 2012,\n",
       "  'offense': 'burglary',\n",
       "  'state_abbr': 'HI',\n",
       "  'cleared': 134,\n",
       "  'actual': 1184},\n",
       " {'ori': 'HI0010000',\n",
       "  'data_year': 2013,\n",
       "  'offense': 'aggravated-assault',\n",
       "  'state_abbr': 'HI',\n",
       "  'cleared': 261,\n",
       "  'actual': 394},\n",
       " {'ori': 'HI0010000',\n",
       "  'data_year': 2013,\n",
       "  'offense': 'violent-crime',\n",
       "  'state_abbr': 'HI',\n",
       "  'cleared': 327,\n",
       "  'actual': 547},\n",
       " {'ori': 'HI0010000',\n",
       "  'data_year': 2013,\n",
       "  'offense': 'robbery',\n",
       "  'state_abbr': 'HI',\n",
       "  'cleared': 46,\n",
       "  'actual': 89},\n",
       " {'ori': 'HI0010000',\n",
       "  'data_year': 2013,\n",
       "  'offense': 'rape-legacy',\n",
       "  'state_abbr': 'HI',\n",
       "  'cleared': 13,\n",
       "  'actual': 55},\n",
       " {'ori': 'HI0010000',\n",
       "  'data_year': 2013,\n",
       "  'offense': 'rape',\n",
       "  'state_abbr': 'HI',\n",
       "  'cleared': 0,\n",
       "  'actual': 0},\n",
       " {'ori': 'HI0010000',\n",
       "  'data_year': 2013,\n",
       "  'offense': 'property-crime',\n",
       "  'state_abbr': 'HI',\n",
       "  'cleared': 1121,\n",
       "  'actual': 5286},\n",
       " {'ori': 'HI0010000',\n",
       "  'data_year': 2013,\n",
       "  'offense': 'motor-vehicle-theft',\n",
       "  'state_abbr': 'HI',\n",
       "  'cleared': 81,\n",
       "  'actual': 421},\n",
       " {'ori': 'HI0010000',\n",
       "  'data_year': 2013,\n",
       "  'offense': 'larceny',\n",
       "  'state_abbr': 'HI',\n",
       "  'cleared': 924,\n",
       "  'actual': 3727},\n",
       " {'ori': 'HI0010000',\n",
       "  'data_year': 2013,\n",
       "  'offense': 'human-trafficing',\n",
       "  'state_abbr': 'HI',\n",
       "  'cleared': 0,\n",
       "  'actual': 0},\n",
       " {'ori': 'HI0010000',\n",
       "  'data_year': 2013,\n",
       "  'offense': 'homicide',\n",
       "  'state_abbr': 'HI',\n",
       "  'cleared': 7,\n",
       "  'actual': 9},\n",
       " {'ori': 'HI0010000',\n",
       "  'data_year': 2013,\n",
       "  'offense': 'burglary',\n",
       "  'state_abbr': 'HI',\n",
       "  'cleared': 116,\n",
       "  'actual': 1138},\n",
       " {'ori': 'HI0010000',\n",
       "  'data_year': 2013,\n",
       "  'offense': 'arson',\n",
       "  'state_abbr': 'HI',\n",
       "  'cleared': 4,\n",
       "  'actual': 32},\n",
       " {'ori': 'HI0010000',\n",
       "  'data_year': 2014,\n",
       "  'offense': 'burglary',\n",
       "  'state_abbr': 'HI',\n",
       "  'cleared': 138,\n",
       "  'actual': 1198},\n",
       " {'ori': 'HI0010000',\n",
       "  'data_year': 2014,\n",
       "  'offense': 'motor-vehicle-theft',\n",
       "  'state_abbr': 'HI',\n",
       "  'cleared': 167,\n",
       "  'actual': 732},\n",
       " {'ori': 'HI0010000',\n",
       "  'data_year': 2014,\n",
       "  'offense': 'property-crime',\n",
       "  'state_abbr': 'HI',\n",
       "  'cleared': 1445,\n",
       "  'actual': 6725},\n",
       " {'ori': 'HI0010000',\n",
       "  'data_year': 2014,\n",
       "  'offense': 'rape',\n",
       "  'state_abbr': 'HI',\n",
       "  'cleared': 55,\n",
       "  'actual': 103},\n",
       " {'ori': 'HI0010000',\n",
       "  'data_year': 2014,\n",
       "  'offense': 'rape-legacy',\n",
       "  'state_abbr': 'HI',\n",
       "  'cleared': 0,\n",
       "  'actual': 0},\n",
       " {'ori': 'HI0010000',\n",
       "  'data_year': 2014,\n",
       "  'offense': 'robbery',\n",
       "  'state_abbr': 'HI',\n",
       "  'cleared': 32,\n",
       "  'actual': 78},\n",
       " {'ori': 'HI0010000',\n",
       "  'data_year': 2014,\n",
       "  'offense': 'violent-crime',\n",
       "  'state_abbr': 'HI',\n",
       "  'cleared': 295,\n",
       "  'actual': 457},\n",
       " {'ori': 'HI0010000',\n",
       "  'data_year': 2014,\n",
       "  'offense': 'human-trafficing',\n",
       "  'state_abbr': 'HI',\n",
       "  'cleared': 0,\n",
       "  'actual': 0},\n",
       " {'ori': 'HI0010000',\n",
       "  'data_year': 2014,\n",
       "  'offense': 'aggravated-assault',\n",
       "  'state_abbr': 'HI',\n",
       "  'cleared': 205,\n",
       "  'actual': 273},\n",
       " {'ori': 'HI0010000',\n",
       "  'data_year': 2014,\n",
       "  'offense': 'arson',\n",
       "  'state_abbr': 'HI',\n",
       "  'cleared': 7,\n",
       "  'actual': 18},\n",
       " {'ori': 'HI0010000',\n",
       "  'data_year': 2014,\n",
       "  'offense': 'larceny',\n",
       "  'state_abbr': 'HI',\n",
       "  'cleared': 1140,\n",
       "  'actual': 4795},\n",
       " {'ori': 'HI0010000',\n",
       "  'data_year': 2014,\n",
       "  'offense': 'homicide',\n",
       "  'state_abbr': 'HI',\n",
       "  'cleared': 3,\n",
       "  'actual': 3},\n",
       " {'ori': 'HI0010000',\n",
       "  'data_year': 2015,\n",
       "  'offense': 'larceny',\n",
       "  'state_abbr': 'HI',\n",
       "  'cleared': 1017,\n",
       "  'actual': 4725},\n",
       " {'ori': 'HI0010000',\n",
       "  'data_year': 2015,\n",
       "  'offense': 'violent-crime',\n",
       "  'state_abbr': 'HI',\n",
       "  'cleared': 247,\n",
       "  'actual': 401},\n",
       " {'ori': 'HI0010000',\n",
       "  'data_year': 2015,\n",
       "  'offense': 'robbery',\n",
       "  'state_abbr': 'HI',\n",
       "  'cleared': 28,\n",
       "  'actual': 54},\n",
       " {'ori': 'HI0010000',\n",
       "  'data_year': 2015,\n",
       "  'offense': 'rape-legacy',\n",
       "  'state_abbr': 'HI',\n",
       "  'cleared': 0,\n",
       "  'actual': 0},\n",
       " {'ori': 'HI0010000',\n",
       "  'data_year': 2015,\n",
       "  'offense': 'rape',\n",
       "  'state_abbr': 'HI',\n",
       "  'cleared': 56,\n",
       "  'actual': 95},\n",
       " {'ori': 'HI0010000',\n",
       "  'data_year': 2015,\n",
       "  'offense': 'property-crime',\n",
       "  'state_abbr': 'HI',\n",
       "  'cleared': 1406,\n",
       "  'actual': 6695},\n",
       " {'ori': 'HI0010000',\n",
       "  'data_year': 2015,\n",
       "  'offense': 'motor-vehicle-theft',\n",
       "  'state_abbr': 'HI',\n",
       "  'cleared': 237,\n",
       "  'actual': 909},\n",
       " {'ori': 'HI0010000',\n",
       "  'data_year': 2015,\n",
       "  'offense': 'human-trafficing',\n",
       "  'state_abbr': 'HI',\n",
       "  'cleared': 0,\n",
       "  'actual': 0},\n",
       " {'ori': 'HI0010000',\n",
       "  'data_year': 2015,\n",
       "  'offense': 'homicide',\n",
       "  'state_abbr': 'HI',\n",
       "  'cleared': 6,\n",
       "  'actual': 8},\n",
       " {'ori': 'HI0010000',\n",
       "  'data_year': 2015,\n",
       "  'offense': 'burglary',\n",
       "  'state_abbr': 'HI',\n",
       "  'cleared': 152,\n",
       "  'actual': 1061},\n",
       " {'ori': 'HI0010000',\n",
       "  'data_year': 2015,\n",
       "  'offense': 'arson',\n",
       "  'state_abbr': 'HI',\n",
       "  'cleared': 10,\n",
       "  'actual': 31},\n",
       " {'ori': 'HI0010000',\n",
       "  'data_year': 2015,\n",
       "  'offense': 'aggravated-assault',\n",
       "  'state_abbr': 'HI',\n",
       "  'cleared': 157,\n",
       "  'actual': 244},\n",
       " {'ori': 'HI0010000',\n",
       "  'data_year': 2016,\n",
       "  'offense': 'human-trafficing',\n",
       "  'state_abbr': 'HI',\n",
       "  'cleared': 0,\n",
       "  'actual': 0},\n",
       " {'ori': 'HI0010000',\n",
       "  'data_year': 2016,\n",
       "  'offense': 'arson',\n",
       "  'state_abbr': 'HI',\n",
       "  'cleared': 12,\n",
       "  'actual': 41},\n",
       " {'ori': 'HI0010000',\n",
       "  'data_year': 2016,\n",
       "  'offense': 'aggravated-assault',\n",
       "  'state_abbr': 'HI',\n",
       "  'cleared': 192,\n",
       "  'actual': 274},\n",
       " {'ori': 'HI0010000',\n",
       "  'data_year': 2016,\n",
       "  'offense': 'burglary',\n",
       "  'state_abbr': 'HI',\n",
       "  'cleared': 128,\n",
       "  'actual': 823},\n",
       " {'ori': 'HI0010000',\n",
       "  'data_year': 2016,\n",
       "  'offense': 'homicide',\n",
       "  'state_abbr': 'HI',\n",
       "  'cleared': 8,\n",
       "  'actual': 9},\n",
       " {'ori': 'HI0010000',\n",
       "  'data_year': 2016,\n",
       "  'offense': 'violent-crime',\n",
       "  'state_abbr': 'HI',\n",
       "  'cleared': 278,\n",
       "  'actual': 467},\n",
       " {'ori': 'HI0010000',\n",
       "  'data_year': 2016,\n",
       "  'offense': 'robbery',\n",
       "  'state_abbr': 'HI',\n",
       "  'cleared': 30,\n",
       "  'actual': 69},\n",
       " {'ori': 'HI0010000',\n",
       "  'data_year': 2016,\n",
       "  'offense': 'rape-legacy',\n",
       "  'state_abbr': 'HI',\n",
       "  'cleared': 0,\n",
       "  'actual': 0},\n",
       " {'ori': 'HI0010000',\n",
       "  'data_year': 2016,\n",
       "  'offense': 'rape',\n",
       "  'state_abbr': 'HI',\n",
       "  'cleared': 48,\n",
       "  'actual': 115},\n",
       " {'ori': 'HI0010000',\n",
       "  'data_year': 2016,\n",
       "  'offense': 'property-crime',\n",
       "  'state_abbr': 'HI',\n",
       "  'cleared': 1166,\n",
       "  'actual': 4928},\n",
       " {'ori': 'HI0010000',\n",
       "  'data_year': 2016,\n",
       "  'offense': 'motor-vehicle-theft',\n",
       "  'state_abbr': 'HI',\n",
       "  'cleared': 167,\n",
       "  'actual': 525},\n",
       " {'ori': 'HI0010000',\n",
       "  'data_year': 2016,\n",
       "  'offense': 'larceny',\n",
       "  'state_abbr': 'HI',\n",
       "  'cleared': 871,\n",
       "  'actual': 3580}]"
      ]
     },
     "execution_count": 10,
     "metadata": {},
     "output_type": "execute_result"
    }
   ],
   "source": [
    "crime_1['results']"
   ]
  },
  {
   "cell_type": "code",
   "execution_count": 11,
   "metadata": {},
   "outputs": [],
   "source": [
    "with open('crime_1.json', 'w') as fp:\n",
    "    #json.dump(crime_1, fp)\n",
    "    json.dump(crime_1['results'], fp)"
   ]
  },
  {
   "cell_type": "code",
   "execution_count": 12,
   "metadata": {},
   "outputs": [],
   "source": [
    "df = pd.read_json (r\"C:\\Users\\user\\Desktop\\crime_1.json\")\n",
    "df.to_csv (r\"C:\\Users\\user\\Desktop\\Cmpe251\\FinalProject\\crime_1.csv\", index = None)\n",
    "df1 = pd.read_csv(r\"C:\\Users\\user\\Desktop\\Cmpe251\\FinalProject\\crime_1.csv\")"
   ]
  },
  {
   "cell_type": "code",
   "execution_count": 13,
   "metadata": {},
   "outputs": [
    {
     "data": {
      "text/html": [
       "<div>\n",
       "<style scoped>\n",
       "    .dataframe tbody tr th:only-of-type {\n",
       "        vertical-align: middle;\n",
       "    }\n",
       "\n",
       "    .dataframe tbody tr th {\n",
       "        vertical-align: top;\n",
       "    }\n",
       "\n",
       "    .dataframe thead th {\n",
       "        text-align: right;\n",
       "    }\n",
       "</style>\n",
       "<table border=\"1\" class=\"dataframe\">\n",
       "  <thead>\n",
       "    <tr style=\"text-align: right;\">\n",
       "      <th></th>\n",
       "      <th>ori</th>\n",
       "      <th>data_year</th>\n",
       "      <th>offense</th>\n",
       "      <th>state_abbr</th>\n",
       "      <th>cleared</th>\n",
       "      <th>actual</th>\n",
       "    </tr>\n",
       "  </thead>\n",
       "  <tbody>\n",
       "    <tr>\n",
       "      <th>0</th>\n",
       "      <td>HI0010000</td>\n",
       "      <td>2006</td>\n",
       "      <td>aggravated-assault</td>\n",
       "      <td>HI</td>\n",
       "      <td>0</td>\n",
       "      <td>276</td>\n",
       "    </tr>\n",
       "    <tr>\n",
       "      <th>1</th>\n",
       "      <td>HI0010000</td>\n",
       "      <td>2006</td>\n",
       "      <td>violent-crime</td>\n",
       "      <td>HI</td>\n",
       "      <td>0</td>\n",
       "      <td>432</td>\n",
       "    </tr>\n",
       "    <tr>\n",
       "      <th>2</th>\n",
       "      <td>HI0010000</td>\n",
       "      <td>2006</td>\n",
       "      <td>robbery</td>\n",
       "      <td>HI</td>\n",
       "      <td>0</td>\n",
       "      <td>88</td>\n",
       "    </tr>\n",
       "    <tr>\n",
       "      <th>3</th>\n",
       "      <td>HI0010000</td>\n",
       "      <td>2006</td>\n",
       "      <td>rape-legacy</td>\n",
       "      <td>HI</td>\n",
       "      <td>0</td>\n",
       "      <td>65</td>\n",
       "    </tr>\n",
       "    <tr>\n",
       "      <th>4</th>\n",
       "      <td>HI0010000</td>\n",
       "      <td>2006</td>\n",
       "      <td>rape</td>\n",
       "      <td>HI</td>\n",
       "      <td>0</td>\n",
       "      <td>0</td>\n",
       "    </tr>\n",
       "    <tr>\n",
       "      <th>...</th>\n",
       "      <td>...</td>\n",
       "      <td>...</td>\n",
       "      <td>...</td>\n",
       "      <td>...</td>\n",
       "      <td>...</td>\n",
       "      <td>...</td>\n",
       "    </tr>\n",
       "    <tr>\n",
       "      <th>127</th>\n",
       "      <td>HI0010000</td>\n",
       "      <td>2016</td>\n",
       "      <td>rape-legacy</td>\n",
       "      <td>HI</td>\n",
       "      <td>0</td>\n",
       "      <td>0</td>\n",
       "    </tr>\n",
       "    <tr>\n",
       "      <th>128</th>\n",
       "      <td>HI0010000</td>\n",
       "      <td>2016</td>\n",
       "      <td>rape</td>\n",
       "      <td>HI</td>\n",
       "      <td>48</td>\n",
       "      <td>115</td>\n",
       "    </tr>\n",
       "    <tr>\n",
       "      <th>129</th>\n",
       "      <td>HI0010000</td>\n",
       "      <td>2016</td>\n",
       "      <td>property-crime</td>\n",
       "      <td>HI</td>\n",
       "      <td>1166</td>\n",
       "      <td>4928</td>\n",
       "    </tr>\n",
       "    <tr>\n",
       "      <th>130</th>\n",
       "      <td>HI0010000</td>\n",
       "      <td>2016</td>\n",
       "      <td>motor-vehicle-theft</td>\n",
       "      <td>HI</td>\n",
       "      <td>167</td>\n",
       "      <td>525</td>\n",
       "    </tr>\n",
       "    <tr>\n",
       "      <th>131</th>\n",
       "      <td>HI0010000</td>\n",
       "      <td>2016</td>\n",
       "      <td>larceny</td>\n",
       "      <td>HI</td>\n",
       "      <td>871</td>\n",
       "      <td>3580</td>\n",
       "    </tr>\n",
       "  </tbody>\n",
       "</table>\n",
       "<p>132 rows × 6 columns</p>\n",
       "</div>"
      ],
      "text/plain": [
       "           ori  data_year              offense state_abbr  cleared  actual\n",
       "0    HI0010000       2006   aggravated-assault         HI        0     276\n",
       "1    HI0010000       2006        violent-crime         HI        0     432\n",
       "2    HI0010000       2006              robbery         HI        0      88\n",
       "3    HI0010000       2006          rape-legacy         HI        0      65\n",
       "4    HI0010000       2006                 rape         HI        0       0\n",
       "..         ...        ...                  ...        ...      ...     ...\n",
       "127  HI0010000       2016          rape-legacy         HI        0       0\n",
       "128  HI0010000       2016                 rape         HI       48     115\n",
       "129  HI0010000       2016       property-crime         HI     1166    4928\n",
       "130  HI0010000       2016  motor-vehicle-theft         HI      167     525\n",
       "131  HI0010000       2016              larceny         HI      871    3580\n",
       "\n",
       "[132 rows x 6 columns]"
      ]
     },
     "execution_count": 13,
     "metadata": {},
     "output_type": "execute_result"
    }
   ],
   "source": [
    "df1"
   ]
  },
  {
   "cell_type": "code",
   "execution_count": 14,
   "metadata": {},
   "outputs": [
    {
     "data": {
      "text/plain": [
       "offense\n",
       "aggravated-assault      3354\n",
       "arson                    425\n",
       "burglary               12921\n",
       "homicide                  56\n",
       "human-trafficing           0\n",
       "larceny                43505\n",
       "motor-vehicle-theft     6034\n",
       "property-crime         62460\n",
       "rape                     313\n",
       "rape-legacy              530\n",
       "robbery                  835\n",
       "violent-crime           5088\n",
       "Name: actual, dtype: int64"
      ]
     },
     "execution_count": 14,
     "metadata": {},
     "output_type": "execute_result"
    }
   ],
   "source": [
    "sum_df = df1.groupby(by=['offense'])['actual'].sum()\n",
    "sum_df"
   ]
  },
  {
   "cell_type": "code",
   "execution_count": 15,
   "metadata": {
    "scrolled": true
   },
   "outputs": [
    {
     "name": "stdout",
     "output_type": "stream",
     "text": [
      "{'results': [{'state_id': 15, 'state_abbr': 'HI', 'year': 2006, 'population': 1285498, 'violent_crime': 3608, 'homicide': 21, 'rape_legacy': 353, 'rape_revised': None, 'robbery': 1144, 'aggravated_assault': 2090, 'property_crime': 54247, 'burglary': 8724, 'larceny': 37784, 'motor_vehicle_theft': 7739, 'arson': 690}, {'state_id': 15, 'state_abbr': 'HI', 'year': 2007, 'population': 1283388, 'violent_crime': 3544, 'homicide': 24, 'rape_legacy': 377, 'rape_revised': None, 'robbery': 1122, 'aggravated_assault': 2021, 'property_crime': 52866, 'burglary': 9089, 'larceny': 37494, 'motor_vehicle_theft': 6283, 'arson': 554}, {'state_id': 15, 'state_abbr': 'HI', 'year': 2008, 'population': 1288198, 'violent_crime': 3510, 'homicide': 26, 'rape_legacy': 363, 'rape_revised': None, 'robbery': 1085, 'aggravated_assault': 2036, 'property_crime': 45944, 'burglary': 9404, 'larceny': 31424, 'motor_vehicle_theft': 5116, 'arson': 509}, {'state_id': 15, 'state_abbr': 'HI', 'year': 2009, 'population': 1295178, 'violent_crime': 3550, 'homicide': 23, 'rape_legacy': 385, 'rape_revised': None, 'robbery': 1030, 'aggravated_assault': 2112, 'property_crime': 47516, 'burglary': 9244, 'larceny': 33415, 'motor_vehicle_theft': 4857, 'arson': 501}, {'state_id': 15, 'state_abbr': 'HI', 'year': 2010, 'population': 1363359, 'violent_crime': 3603, 'homicide': 25, 'rape_legacy': 377, 'rape_revised': None, 'robbery': 1065, 'aggravated_assault': 2136, 'property_crime': 45667, 'burglary': 8706, 'larceny': 31681, 'motor_vehicle_theft': 5280, 'arson': 441}, {'state_id': 15, 'state_abbr': 'HI', 'year': 2011, 'population': 1378129, 'violent_crime': 3465, 'homicide': 20, 'rape_legacy': 353, 'rape_revised': None, 'robbery': 994, 'aggravated_assault': 2098, 'property_crime': 43874, 'burglary': 8165, 'larceny': 31240, 'motor_vehicle_theft': 4469, 'arson': 357}, {'state_id': 15, 'state_abbr': 'HI', 'year': 2012, 'population': 1390090, 'violent_crime': 3378, 'homicide': 21, 'rape_legacy': 279, 'rape_revised': None, 'robbery': 1125, 'aggravated_assault': 1953, 'property_crime': 43419, 'burglary': 7653, 'larceny': 31901, 'motor_vehicle_theft': 3865, 'arson': 312}, {'state_id': 15, 'state_abbr': 'HI', 'year': 2013, 'population': 1408987, 'violent_crime': 3585, 'homicide': 32, 'rape_legacy': 366, 'rape_revised': 508, 'robbery': 934, 'aggravated_assault': 2111, 'property_crime': 45266, 'burglary': 7777, 'larceny': 32928, 'motor_vehicle_theft': 4561, 'arson': 223}, {'state_id': 15, 'state_abbr': 'HI', 'year': 2014, 'population': 1420257, 'violent_crime': 3362, 'homicide': 20, 'rape_legacy': 388, 'rape_revised': 548, 'robbery': 952, 'aggravated_assault': 1842, 'property_crime': 46022, 'burglary': 7470, 'larceny': 33003, 'motor_vehicle_theft': 5549, 'arson': 148}, {'state_id': 15, 'state_abbr': 'HI', 'year': 2016, 'population': 1428683, 'violent_crime': 3452, 'homicide': 35, 'rape_legacy': 432, 'rape_revised': 601, 'robbery': 985, 'aggravated_assault': 1831, 'property_crime': 42353, 'burglary': 5983, 'larceny': 30871, 'motor_vehicle_theft': 5499, 'arson': 485}, {'state_id': 15, 'state_abbr': 'HI', 'year': 2015, 'population': 1431603, 'violent_crime': 4201, 'homicide': 19, 'rape_legacy': 382, 'rape_revised': 538, 'robbery': 1085, 'aggravated_assault': 1878, 'property_crime': 45389, 'burglary': 6810, 'larceny': 33140, 'motor_vehicle_theft': 5439, 'arson': 417}], 'pagination': {'count': 11, 'page': 0, 'pages': 1, 'per_page': 0}}\n"
     ]
    }
   ],
   "source": [
    "dataframe = requests.get(\"https://api.usa.gov/crime/fbi/sapi/api/summarized/estimates/states/HI/2006/2016?API_KEY=CABGsSGomgmMdgoSjqS4KJt2cif8Ujffe3l5BOsP\")\n",
    "crime_2 = json.loads(dataframe.text)\n",
    "print(crime_2)"
   ]
  },
  {
   "cell_type": "code",
   "execution_count": 16,
   "metadata": {},
   "outputs": [
    {
     "data": {
      "text/plain": [
       "[{'state_id': 15,\n",
       "  'state_abbr': 'HI',\n",
       "  'year': 2006,\n",
       "  'population': 1285498,\n",
       "  'violent_crime': 3608,\n",
       "  'homicide': 21,\n",
       "  'rape_legacy': 353,\n",
       "  'rape_revised': None,\n",
       "  'robbery': 1144,\n",
       "  'aggravated_assault': 2090,\n",
       "  'property_crime': 54247,\n",
       "  'burglary': 8724,\n",
       "  'larceny': 37784,\n",
       "  'motor_vehicle_theft': 7739,\n",
       "  'arson': 690},\n",
       " {'state_id': 15,\n",
       "  'state_abbr': 'HI',\n",
       "  'year': 2007,\n",
       "  'population': 1283388,\n",
       "  'violent_crime': 3544,\n",
       "  'homicide': 24,\n",
       "  'rape_legacy': 377,\n",
       "  'rape_revised': None,\n",
       "  'robbery': 1122,\n",
       "  'aggravated_assault': 2021,\n",
       "  'property_crime': 52866,\n",
       "  'burglary': 9089,\n",
       "  'larceny': 37494,\n",
       "  'motor_vehicle_theft': 6283,\n",
       "  'arson': 554},\n",
       " {'state_id': 15,\n",
       "  'state_abbr': 'HI',\n",
       "  'year': 2008,\n",
       "  'population': 1288198,\n",
       "  'violent_crime': 3510,\n",
       "  'homicide': 26,\n",
       "  'rape_legacy': 363,\n",
       "  'rape_revised': None,\n",
       "  'robbery': 1085,\n",
       "  'aggravated_assault': 2036,\n",
       "  'property_crime': 45944,\n",
       "  'burglary': 9404,\n",
       "  'larceny': 31424,\n",
       "  'motor_vehicle_theft': 5116,\n",
       "  'arson': 509},\n",
       " {'state_id': 15,\n",
       "  'state_abbr': 'HI',\n",
       "  'year': 2009,\n",
       "  'population': 1295178,\n",
       "  'violent_crime': 3550,\n",
       "  'homicide': 23,\n",
       "  'rape_legacy': 385,\n",
       "  'rape_revised': None,\n",
       "  'robbery': 1030,\n",
       "  'aggravated_assault': 2112,\n",
       "  'property_crime': 47516,\n",
       "  'burglary': 9244,\n",
       "  'larceny': 33415,\n",
       "  'motor_vehicle_theft': 4857,\n",
       "  'arson': 501},\n",
       " {'state_id': 15,\n",
       "  'state_abbr': 'HI',\n",
       "  'year': 2010,\n",
       "  'population': 1363359,\n",
       "  'violent_crime': 3603,\n",
       "  'homicide': 25,\n",
       "  'rape_legacy': 377,\n",
       "  'rape_revised': None,\n",
       "  'robbery': 1065,\n",
       "  'aggravated_assault': 2136,\n",
       "  'property_crime': 45667,\n",
       "  'burglary': 8706,\n",
       "  'larceny': 31681,\n",
       "  'motor_vehicle_theft': 5280,\n",
       "  'arson': 441},\n",
       " {'state_id': 15,\n",
       "  'state_abbr': 'HI',\n",
       "  'year': 2011,\n",
       "  'population': 1378129,\n",
       "  'violent_crime': 3465,\n",
       "  'homicide': 20,\n",
       "  'rape_legacy': 353,\n",
       "  'rape_revised': None,\n",
       "  'robbery': 994,\n",
       "  'aggravated_assault': 2098,\n",
       "  'property_crime': 43874,\n",
       "  'burglary': 8165,\n",
       "  'larceny': 31240,\n",
       "  'motor_vehicle_theft': 4469,\n",
       "  'arson': 357},\n",
       " {'state_id': 15,\n",
       "  'state_abbr': 'HI',\n",
       "  'year': 2012,\n",
       "  'population': 1390090,\n",
       "  'violent_crime': 3378,\n",
       "  'homicide': 21,\n",
       "  'rape_legacy': 279,\n",
       "  'rape_revised': None,\n",
       "  'robbery': 1125,\n",
       "  'aggravated_assault': 1953,\n",
       "  'property_crime': 43419,\n",
       "  'burglary': 7653,\n",
       "  'larceny': 31901,\n",
       "  'motor_vehicle_theft': 3865,\n",
       "  'arson': 312},\n",
       " {'state_id': 15,\n",
       "  'state_abbr': 'HI',\n",
       "  'year': 2013,\n",
       "  'population': 1408987,\n",
       "  'violent_crime': 3585,\n",
       "  'homicide': 32,\n",
       "  'rape_legacy': 366,\n",
       "  'rape_revised': 508,\n",
       "  'robbery': 934,\n",
       "  'aggravated_assault': 2111,\n",
       "  'property_crime': 45266,\n",
       "  'burglary': 7777,\n",
       "  'larceny': 32928,\n",
       "  'motor_vehicle_theft': 4561,\n",
       "  'arson': 223},\n",
       " {'state_id': 15,\n",
       "  'state_abbr': 'HI',\n",
       "  'year': 2014,\n",
       "  'population': 1420257,\n",
       "  'violent_crime': 3362,\n",
       "  'homicide': 20,\n",
       "  'rape_legacy': 388,\n",
       "  'rape_revised': 548,\n",
       "  'robbery': 952,\n",
       "  'aggravated_assault': 1842,\n",
       "  'property_crime': 46022,\n",
       "  'burglary': 7470,\n",
       "  'larceny': 33003,\n",
       "  'motor_vehicle_theft': 5549,\n",
       "  'arson': 148},\n",
       " {'state_id': 15,\n",
       "  'state_abbr': 'HI',\n",
       "  'year': 2016,\n",
       "  'population': 1428683,\n",
       "  'violent_crime': 3452,\n",
       "  'homicide': 35,\n",
       "  'rape_legacy': 432,\n",
       "  'rape_revised': 601,\n",
       "  'robbery': 985,\n",
       "  'aggravated_assault': 1831,\n",
       "  'property_crime': 42353,\n",
       "  'burglary': 5983,\n",
       "  'larceny': 30871,\n",
       "  'motor_vehicle_theft': 5499,\n",
       "  'arson': 485},\n",
       " {'state_id': 15,\n",
       "  'state_abbr': 'HI',\n",
       "  'year': 2015,\n",
       "  'population': 1431603,\n",
       "  'violent_crime': 4201,\n",
       "  'homicide': 19,\n",
       "  'rape_legacy': 382,\n",
       "  'rape_revised': 538,\n",
       "  'robbery': 1085,\n",
       "  'aggravated_assault': 1878,\n",
       "  'property_crime': 45389,\n",
       "  'burglary': 6810,\n",
       "  'larceny': 33140,\n",
       "  'motor_vehicle_theft': 5439,\n",
       "  'arson': 417}]"
      ]
     },
     "execution_count": 16,
     "metadata": {},
     "output_type": "execute_result"
    }
   ],
   "source": [
    "crime_2.keys()\n",
    "crime_2['results']"
   ]
  },
  {
   "cell_type": "code",
   "execution_count": 17,
   "metadata": {},
   "outputs": [],
   "source": [
    "with open('crime_2.json', 'w') as fp:\n",
    "    #json.dump(crime_2, fp)\n",
    "    json.dump(crime_2['results'], fp)"
   ]
  },
  {
   "cell_type": "code",
   "execution_count": 18,
   "metadata": {},
   "outputs": [],
   "source": [
    "df = pd.read_json (r\"C:\\Users\\user\\Desktop\\crime_2.json\")\n",
    "df.to_csv (r\"C:\\Users\\user\\Desktop\\Cmpe251\\FinalProject\\crime_2.csv\", index = None)\n",
    "df2 = pd.read_csv(r\"C:\\Users\\user\\Desktop\\Cmpe251\\FinalProject\\crime_2.csv\")"
   ]
  },
  {
   "cell_type": "code",
   "execution_count": 19,
   "metadata": {},
   "outputs": [
    {
     "data": {
      "text/html": [
       "<div>\n",
       "<style scoped>\n",
       "    .dataframe tbody tr th:only-of-type {\n",
       "        vertical-align: middle;\n",
       "    }\n",
       "\n",
       "    .dataframe tbody tr th {\n",
       "        vertical-align: top;\n",
       "    }\n",
       "\n",
       "    .dataframe thead th {\n",
       "        text-align: right;\n",
       "    }\n",
       "</style>\n",
       "<table border=\"1\" class=\"dataframe\">\n",
       "  <thead>\n",
       "    <tr style=\"text-align: right;\">\n",
       "      <th></th>\n",
       "      <th>state_id</th>\n",
       "      <th>state_abbr</th>\n",
       "      <th>year</th>\n",
       "      <th>population</th>\n",
       "      <th>violent_crime</th>\n",
       "      <th>homicide</th>\n",
       "      <th>rape_legacy</th>\n",
       "      <th>rape_revised</th>\n",
       "      <th>robbery</th>\n",
       "      <th>aggravated_assault</th>\n",
       "      <th>property_crime</th>\n",
       "      <th>burglary</th>\n",
       "      <th>larceny</th>\n",
       "      <th>motor_vehicle_theft</th>\n",
       "      <th>arson</th>\n",
       "    </tr>\n",
       "  </thead>\n",
       "  <tbody>\n",
       "    <tr>\n",
       "      <th>0</th>\n",
       "      <td>15</td>\n",
       "      <td>HI</td>\n",
       "      <td>2006</td>\n",
       "      <td>1285498</td>\n",
       "      <td>3608</td>\n",
       "      <td>21</td>\n",
       "      <td>353</td>\n",
       "      <td>NaN</td>\n",
       "      <td>1144</td>\n",
       "      <td>2090</td>\n",
       "      <td>54247</td>\n",
       "      <td>8724</td>\n",
       "      <td>37784</td>\n",
       "      <td>7739</td>\n",
       "      <td>690</td>\n",
       "    </tr>\n",
       "    <tr>\n",
       "      <th>1</th>\n",
       "      <td>15</td>\n",
       "      <td>HI</td>\n",
       "      <td>2007</td>\n",
       "      <td>1283388</td>\n",
       "      <td>3544</td>\n",
       "      <td>24</td>\n",
       "      <td>377</td>\n",
       "      <td>NaN</td>\n",
       "      <td>1122</td>\n",
       "      <td>2021</td>\n",
       "      <td>52866</td>\n",
       "      <td>9089</td>\n",
       "      <td>37494</td>\n",
       "      <td>6283</td>\n",
       "      <td>554</td>\n",
       "    </tr>\n",
       "    <tr>\n",
       "      <th>2</th>\n",
       "      <td>15</td>\n",
       "      <td>HI</td>\n",
       "      <td>2008</td>\n",
       "      <td>1288198</td>\n",
       "      <td>3510</td>\n",
       "      <td>26</td>\n",
       "      <td>363</td>\n",
       "      <td>NaN</td>\n",
       "      <td>1085</td>\n",
       "      <td>2036</td>\n",
       "      <td>45944</td>\n",
       "      <td>9404</td>\n",
       "      <td>31424</td>\n",
       "      <td>5116</td>\n",
       "      <td>509</td>\n",
       "    </tr>\n",
       "    <tr>\n",
       "      <th>3</th>\n",
       "      <td>15</td>\n",
       "      <td>HI</td>\n",
       "      <td>2009</td>\n",
       "      <td>1295178</td>\n",
       "      <td>3550</td>\n",
       "      <td>23</td>\n",
       "      <td>385</td>\n",
       "      <td>NaN</td>\n",
       "      <td>1030</td>\n",
       "      <td>2112</td>\n",
       "      <td>47516</td>\n",
       "      <td>9244</td>\n",
       "      <td>33415</td>\n",
       "      <td>4857</td>\n",
       "      <td>501</td>\n",
       "    </tr>\n",
       "    <tr>\n",
       "      <th>4</th>\n",
       "      <td>15</td>\n",
       "      <td>HI</td>\n",
       "      <td>2010</td>\n",
       "      <td>1363359</td>\n",
       "      <td>3603</td>\n",
       "      <td>25</td>\n",
       "      <td>377</td>\n",
       "      <td>NaN</td>\n",
       "      <td>1065</td>\n",
       "      <td>2136</td>\n",
       "      <td>45667</td>\n",
       "      <td>8706</td>\n",
       "      <td>31681</td>\n",
       "      <td>5280</td>\n",
       "      <td>441</td>\n",
       "    </tr>\n",
       "    <tr>\n",
       "      <th>5</th>\n",
       "      <td>15</td>\n",
       "      <td>HI</td>\n",
       "      <td>2011</td>\n",
       "      <td>1378129</td>\n",
       "      <td>3465</td>\n",
       "      <td>20</td>\n",
       "      <td>353</td>\n",
       "      <td>NaN</td>\n",
       "      <td>994</td>\n",
       "      <td>2098</td>\n",
       "      <td>43874</td>\n",
       "      <td>8165</td>\n",
       "      <td>31240</td>\n",
       "      <td>4469</td>\n",
       "      <td>357</td>\n",
       "    </tr>\n",
       "    <tr>\n",
       "      <th>6</th>\n",
       "      <td>15</td>\n",
       "      <td>HI</td>\n",
       "      <td>2012</td>\n",
       "      <td>1390090</td>\n",
       "      <td>3378</td>\n",
       "      <td>21</td>\n",
       "      <td>279</td>\n",
       "      <td>NaN</td>\n",
       "      <td>1125</td>\n",
       "      <td>1953</td>\n",
       "      <td>43419</td>\n",
       "      <td>7653</td>\n",
       "      <td>31901</td>\n",
       "      <td>3865</td>\n",
       "      <td>312</td>\n",
       "    </tr>\n",
       "    <tr>\n",
       "      <th>7</th>\n",
       "      <td>15</td>\n",
       "      <td>HI</td>\n",
       "      <td>2013</td>\n",
       "      <td>1408987</td>\n",
       "      <td>3585</td>\n",
       "      <td>32</td>\n",
       "      <td>366</td>\n",
       "      <td>508.0</td>\n",
       "      <td>934</td>\n",
       "      <td>2111</td>\n",
       "      <td>45266</td>\n",
       "      <td>7777</td>\n",
       "      <td>32928</td>\n",
       "      <td>4561</td>\n",
       "      <td>223</td>\n",
       "    </tr>\n",
       "    <tr>\n",
       "      <th>8</th>\n",
       "      <td>15</td>\n",
       "      <td>HI</td>\n",
       "      <td>2014</td>\n",
       "      <td>1420257</td>\n",
       "      <td>3362</td>\n",
       "      <td>20</td>\n",
       "      <td>388</td>\n",
       "      <td>548.0</td>\n",
       "      <td>952</td>\n",
       "      <td>1842</td>\n",
       "      <td>46022</td>\n",
       "      <td>7470</td>\n",
       "      <td>33003</td>\n",
       "      <td>5549</td>\n",
       "      <td>148</td>\n",
       "    </tr>\n",
       "    <tr>\n",
       "      <th>10</th>\n",
       "      <td>15</td>\n",
       "      <td>HI</td>\n",
       "      <td>2015</td>\n",
       "      <td>1431603</td>\n",
       "      <td>4201</td>\n",
       "      <td>19</td>\n",
       "      <td>382</td>\n",
       "      <td>538.0</td>\n",
       "      <td>1085</td>\n",
       "      <td>1878</td>\n",
       "      <td>45389</td>\n",
       "      <td>6810</td>\n",
       "      <td>33140</td>\n",
       "      <td>5439</td>\n",
       "      <td>417</td>\n",
       "    </tr>\n",
       "    <tr>\n",
       "      <th>9</th>\n",
       "      <td>15</td>\n",
       "      <td>HI</td>\n",
       "      <td>2016</td>\n",
       "      <td>1428683</td>\n",
       "      <td>3452</td>\n",
       "      <td>35</td>\n",
       "      <td>432</td>\n",
       "      <td>601.0</td>\n",
       "      <td>985</td>\n",
       "      <td>1831</td>\n",
       "      <td>42353</td>\n",
       "      <td>5983</td>\n",
       "      <td>30871</td>\n",
       "      <td>5499</td>\n",
       "      <td>485</td>\n",
       "    </tr>\n",
       "  </tbody>\n",
       "</table>\n",
       "</div>"
      ],
      "text/plain": [
       "    state_id state_abbr  year  population  violent_crime  homicide  \\\n",
       "0         15         HI  2006     1285498           3608        21   \n",
       "1         15         HI  2007     1283388           3544        24   \n",
       "2         15         HI  2008     1288198           3510        26   \n",
       "3         15         HI  2009     1295178           3550        23   \n",
       "4         15         HI  2010     1363359           3603        25   \n",
       "5         15         HI  2011     1378129           3465        20   \n",
       "6         15         HI  2012     1390090           3378        21   \n",
       "7         15         HI  2013     1408987           3585        32   \n",
       "8         15         HI  2014     1420257           3362        20   \n",
       "10        15         HI  2015     1431603           4201        19   \n",
       "9         15         HI  2016     1428683           3452        35   \n",
       "\n",
       "    rape_legacy  rape_revised  robbery  aggravated_assault  property_crime  \\\n",
       "0           353           NaN     1144                2090           54247   \n",
       "1           377           NaN     1122                2021           52866   \n",
       "2           363           NaN     1085                2036           45944   \n",
       "3           385           NaN     1030                2112           47516   \n",
       "4           377           NaN     1065                2136           45667   \n",
       "5           353           NaN      994                2098           43874   \n",
       "6           279           NaN     1125                1953           43419   \n",
       "7           366         508.0      934                2111           45266   \n",
       "8           388         548.0      952                1842           46022   \n",
       "10          382         538.0     1085                1878           45389   \n",
       "9           432         601.0      985                1831           42353   \n",
       "\n",
       "    burglary  larceny  motor_vehicle_theft  arson  \n",
       "0       8724    37784                 7739    690  \n",
       "1       9089    37494                 6283    554  \n",
       "2       9404    31424                 5116    509  \n",
       "3       9244    33415                 4857    501  \n",
       "4       8706    31681                 5280    441  \n",
       "5       8165    31240                 4469    357  \n",
       "6       7653    31901                 3865    312  \n",
       "7       7777    32928                 4561    223  \n",
       "8       7470    33003                 5549    148  \n",
       "10      6810    33140                 5439    417  \n",
       "9       5983    30871                 5499    485  "
      ]
     },
     "execution_count": 19,
     "metadata": {},
     "output_type": "execute_result"
    }
   ],
   "source": [
    "df2.sort_values(by=['year'], inplace=True)\n",
    "df2"
   ]
  },
  {
   "cell_type": "code",
   "execution_count": 20,
   "metadata": {},
   "outputs": [
    {
     "data": {
      "text/plain": [
       "violent_crime           39258.0\n",
       "homicide                  266.0\n",
       "rape_legacy              4055.0\n",
       "rape_revised             2195.0\n",
       "robbery                 11521.0\n",
       "aggravated_assault      22108.0\n",
       "property_crime         512563.0\n",
       "burglary                89025.0\n",
       "larceny                364881.0\n",
       "motor_vehicle_theft     58657.0\n",
       "arson                    4637.0\n",
       "dtype: float64"
      ]
     },
     "execution_count": 20,
     "metadata": {},
     "output_type": "execute_result"
    }
   ],
   "source": [
    "X=df2.drop(['state_abbr','year','state_id','population'],axis=1)\n",
    "X.sum(axis = 0, skipna = True) "
   ]
  },
  {
   "cell_type": "code",
   "execution_count": 21,
   "metadata": {},
   "outputs": [
    {
     "name": "stdout",
     "output_type": "stream",
     "text": [
      "['2006', '2007', '2008', '2009', '2010', '2011', '2012', '2013', '2014', '2016', '2015']\n",
      "['21', '24', '26', '23', '25', '20', '21', '32', '20', '35', '19']\n",
      "['690', '554', '509', '501', '441', '357', '312', '223', '148', '485', '417']\n",
      "['353', '377', '363', '385', '377', '353', '279', '366', '388', '432', '382']\n"
     ]
    }
   ],
   "source": [
    "import csv\n",
    "csv_file = r\"C:\\Users\\user\\Desktop\\Cmpe251\\FinalProject\\crime_2.csv\"\n",
    "\n",
    "year = []\n",
    "homicide = []\n",
    "arson = []\n",
    "rape_legacy = []\n",
    "\n",
    "with open(csv_file, 'r') as f:\n",
    "    reader = csv.DictReader(f)\n",
    "    for row in reader:\n",
    "        year.append(row.get('year'))\n",
    "        homicide.append(row.get('homicide'))\n",
    "        arson.append(row.get('arson'))\n",
    "        rape_legacy.append(row.get('rape_legacy'))\n",
    "        \n",
    "\n",
    "\n",
    "print(year)\n",
    "print(homicide)\n",
    "print(arson)\n",
    "print(rape_legacy)\n"
   ]
  },
  {
   "cell_type": "markdown",
   "metadata": {},
   "source": [
    "# Data Visualization "
   ]
  },
  {
   "cell_type": "code",
   "execution_count": 22,
   "metadata": {
    "scrolled": false
   },
   "outputs": [
    {
     "data": {
      "text/plain": [
       "Text(0.5, 1.0, 'Correlation')"
      ]
     },
     "execution_count": 22,
     "metadata": {},
     "output_type": "execute_result"
    },
    {
     "data": {
      "image/png": "[encoded data removed]",
      "text/plain": [
       "<Figure size 720x720 with 2 Axes>"
      ]
     },
     "metadata": {
      "needs_background": "light"
     },
     "output_type": "display_data"
    }
   ],
   "source": [
    "#Graph1 : Heatmap\n",
    "corr=df2.corr()\n",
    "fig = plt.figure(figsize=(10,10))\n",
    "r = sns.heatmap(corr, annot=True, cmap=sns.cubehelix_palette(8))\n",
    "r.set_title(\"Correlation\")"
   ]
  },
  {
   "cell_type": "code",
   "execution_count": 23,
   "metadata": {
    "scrolled": false
   },
   "outputs": [
    {
     "data": {
      "application/vnd.plotly.v1+json": {
       "config": {
        "plotlyServerURL": "https://plot.ly"
       },
       "data": [
        {
         "domain": {
          "x": [
           0,
           1
          ],
          "y": [
           0,
           1
          ]
         },
         "hovertemplate": "label=%{label}<br>value=%{value}<extra></extra>",
         "labels": [
          "aggravated-assault",
          "arson",
          "burglary",
          "homicide",
          "human-trafficing",
          "larceny",
          "motor-vehicle-theft",
          "property-crime",
          "rape",
          "rape-legacy",
          "robbery",
          "violent-crime"
         ],
         "legendgroup": "",
         "name": "",
         "showlegend": true,
         "type": "pie",
         "values": [
          22108,
          4637,
          89025,
          266,
          0,
          364881,
          58657,
          512563,
          2195,
          4055,
          11521,
          39258
         ]
        }
       ],
       "layout": {
        "legend": {
         "tracegroupgap": 0
        },
        "margin": {
         "t": 60
        },
        "template": {
         "data": {
          "bar": [
           {
            "error_x": {
             "color": "#2a3f5f"
            },
            "error_y": {
             "color": "#2a3f5f"
            },
            "marker": {
             "line": {
              "color": "#E5ECF6",
              "width": 0.5
             }
            },
            "type": "bar"
           }
          ],
          "barpolar": [
           {
            "marker": {
             "line": {
              "color": "#E5ECF6",
              "width": 0.5
             }
            },
            "type": "barpolar"
           }
          ],
          "carpet": [
           {
            "aaxis": {
             "endlinecolor": "#2a3f5f",
             "gridcolor": "white",
             "linecolor": "white",
             "minorgridcolor": "white",
             "startlinecolor": "#2a3f5f"
            },
            "baxis": {
             "endlinecolor": "#2a3f5f",
             "gridcolor": "white",
             "linecolor": "white",
             "minorgridcolor": "white",
             "startlinecolor": "#2a3f5f"
            },
            "type": "carpet"
           }
          ],
          "choropleth": [
           {
            "colorbar": {
             "outlinewidth": 0,
             "ticks": ""
            },
            "type": "choropleth"
           }
          ],
          "contour": [
           {
            "colorbar": {
             "outlinewidth": 0,
             "ticks": ""
            },
            "colorscale": [
             [
              0,
              "#0d0887"
             ],
             [
              0.1111111111111111,
              "#46039f"
             ],
             [
              0.2222222222222222,
              "#7201a8"
             ],
             [
              0.3333333333333333,
              "#9c179e"
             ],
             [
              0.4444444444444444,
              "#bd3786"
             ],
             [
              0.5555555555555556,
              "#d8576b"
             ],
             [
              0.6666666666666666,
              "#ed7953"
             ],
             [
              0.7777777777777778,
              "#fb9f3a"
             ],
             [
              0.8888888888888888,
              "#fdca26"
             ],
             [
              1,
              "#f0f921"
             ]
            ],
            "type": "contour"
           }
          ],
          "contourcarpet": [
           {
            "colorbar": {
             "outlinewidth": 0,
             "ticks": ""
            },
            "type": "contourcarpet"
           }
          ],
          "heatmap": [
           {
            "colorbar": {
             "outlinewidth": 0,
             "ticks": ""
            },
            "colorscale": [
             [
              0,
              "#0d0887"
             ],
             [
              0.1111111111111111,
              "#46039f"
             ],
             [
              0.2222222222222222,
              "#7201a8"
             ],
             [
              0.3333333333333333,
              "#9c179e"
             ],
             [
              0.4444444444444444,
              "#bd3786"
             ],
             [
              0.5555555555555556,
              "#d8576b"
             ],
             [
              0.6666666666666666,
              "#ed7953"
             ],
             [
              0.7777777777777778,
              "#fb9f3a"
             ],
             [
              0.8888888888888888,
              "#fdca26"
             ],
             [
              1,
              "#f0f921"
             ]
            ],
            "type": "heatmap"
           }
          ],
          "heatmapgl": [
           {
            "colorbar": {
             "outlinewidth": 0,
             "ticks": ""
            },
            "colorscale": [
             [
              0,
              "#0d0887"
             ],
             [
              0.1111111111111111,
              "#46039f"
             ],
             [
              0.2222222222222222,
              "#7201a8"
             ],
             [
              0.3333333333333333,
              "#9c179e"
             ],
             [
              0.4444444444444444,
              "#bd3786"
             ],
             [
              0.5555555555555556,
              "#d8576b"
             ],
             [
              0.6666666666666666,
              "#ed7953"
             ],
             [
              0.7777777777777778,
              "#fb9f3a"
             ],
             [
              0.8888888888888888,
              "#fdca26"
             ],
             [
              1,
              "#f0f921"
             ]
            ],
            "type": "heatmapgl"
           }
          ],
          "histogram": [
           {
            "marker": {
             "colorbar": {
              "outlinewidth": 0,
              "ticks": ""
             }
            },
            "type": "histogram"
           }
          ],
          "histogram2d": [
           {
            "colorbar": {
             "outlinewidth": 0,
             "ticks": ""
            },
            "colorscale": [
             [
              0,
              "#0d0887"
             ],
             [
              0.1111111111111111,
              "#46039f"
             ],
             [
              0.2222222222222222,
              "#7201a8"
             ],
             [
              0.3333333333333333,
              "#9c179e"
             ],
             [
              0.4444444444444444,
              "#bd3786"
             ],
             [
              0.5555555555555556,
              "#d8576b"
             ],
             [
              0.6666666666666666,
              "#ed7953"
             ],
             [
              0.7777777777777778,
              "#fb9f3a"
             ],
             [
              0.8888888888888888,
              "#fdca26"
             ],
             [
              1,
              "#f0f921"
             ]
            ],
            "type": "histogram2d"
           }
          ],
          "histogram2dcontour": [
           {
            "colorbar": {
             "outlinewidth": 0,
             "ticks": ""
            },
            "colorscale": [
             [
              0,
              "#0d0887"
             ],
             [
              0.1111111111111111,
              "#46039f"
             ],
             [
              0.2222222222222222,
              "#7201a8"
             ],
             [
              0.3333333333333333,
              "#9c179e"
             ],
             [
              0.4444444444444444,
              "#bd3786"
             ],
             [
              0.5555555555555556,
              "#d8576b"
             ],
             [
              0.6666666666666666,
              "#ed7953"
             ],
             [
              0.7777777777777778,
              "#fb9f3a"
             ],
             [
              0.8888888888888888,
              "#fdca26"
             ],
             [
              1,
              "#f0f921"
             ]
            ],
            "type": "histogram2dcontour"
           }
          ],
          "mesh3d": [
           {
            "colorbar": {
             "outlinewidth": 0,
             "ticks": ""
            },
            "type": "mesh3d"
           }
          ],
          "parcoords": [
           {
            "line": {
             "colorbar": {
              "outlinewidth": 0,
              "ticks": ""
             }
            },
            "type": "parcoords"
           }
          ],
          "pie": [
           {
            "automargin": true,
            "type": "pie"
           }
          ],
          "scatter": [
           {
            "marker": {
             "colorbar": {
              "outlinewidth": 0,
              "ticks": ""
             }
            },
            "type": "scatter"
           }
          ],
          "scatter3d": [
           {
            "line": {
             "colorbar": {
              "outlinewidth": 0,
              "ticks": ""
             }
            },
            "marker": {
             "colorbar": {
              "outlinewidth": 0,
              "ticks": ""
             }
            },
            "type": "scatter3d"
           }
          ],
          "scattercarpet": [
           {
            "marker": {
             "colorbar": {
              "outlinewidth": 0,
              "ticks": ""
             }
            },
            "type": "scattercarpet"
           }
          ],
          "scattergeo": [
           {
            "marker": {
             "colorbar": {
              "outlinewidth": 0,
              "ticks": ""
             }
            },
            "type": "scattergeo"
           }
          ],
          "scattergl": [
           {
            "marker": {
             "colorbar": {
              "outlinewidth": 0,
              "ticks": ""
             }
            },
            "type": "scattergl"
           }
          ],
          "scattermapbox": [
           {
            "marker": {
             "colorbar": {
              "outlinewidth": 0,
              "ticks": ""
             }
            },
            "type": "scattermapbox"
           }
          ],
          "scatterpolar": [
           {
            "marker": {
             "colorbar": {
              "outlinewidth": 0,
              "ticks": ""
             }
            },
            "type": "scatterpolar"
           }
          ],
          "scatterpolargl": [
           {
            "marker": {
             "colorbar": {
              "outlinewidth": 0,
              "ticks": ""
             }
            },
            "type": "scatterpolargl"
           }
          ],
          "scatterternary": [
           {
            "marker": {
             "colorbar": {
              "outlinewidth": 0,
              "ticks": ""
             }
            },
            "type": "scatterternary"
           }
          ],
          "surface": [
           {
            "colorbar": {
             "outlinewidth": 0,
             "ticks": ""
            },
            "colorscale": [
             [
              0,
              "#0d0887"
             ],
             [
              0.1111111111111111,
              "#46039f"
             ],
             [
              0.2222222222222222,
              "#7201a8"
             ],
             [
              0.3333333333333333,
              "#9c179e"
             ],
             [
              0.4444444444444444,
              "#bd3786"
             ],
             [
              0.5555555555555556,
              "#d8576b"
             ],
             [
              0.6666666666666666,
              "#ed7953"
             ],
             [
              0.7777777777777778,
              "#fb9f3a"
             ],
             [
              0.8888888888888888,
              "#fdca26"
             ],
             [
              1,
              "#f0f921"
             ]
            ],
            "type": "surface"
           }
          ],
          "table": [
           {
            "cells": {
             "fill": {
              "color": "#EBF0F8"
             },
             "line": {
              "color": "white"
             }
            },
            "header": {
             "fill": {
              "color": "#C8D4E3"
             },
             "line": {
              "color": "white"
             }
            },
            "type": "table"
           }
          ]
         },
         "layout": {
          "annotationdefaults": {
           "arrowcolor": "#2a3f5f",
           "arrowhead": 0,
           "arrowwidth": 1
          },
          "coloraxis": {
           "colorbar": {
            "outlinewidth": 0,
            "ticks": ""
           }
          },
          "colorscale": {
           "diverging": [
            [
             0,
             "#8e0152"
            ],
            [
             0.1,
             "#c51b7d"
            ],
            [
             0.2,
             "#de77ae"
            ],
            [
             0.3,
             "#f1b6da"
            ],
            [
             0.4,
             "#fde0ef"
            ],
            [
             0.5,
             "#f7f7f7"
            ],
            [
             0.6,
             "#e6f5d0"
            ],
            [
             0.7,
             "#b8e186"
            ],
            [
             0.8,
             "#7fbc41"
            ],
            [
             0.9,
             "#4d9221"
            ],
            [
             1,
             "#276419"
            ]
           ],
           "sequential": [
            [
             0,
             "#0d0887"
            ],
            [
             0.1111111111111111,
             "#46039f"
            ],
            [
             0.2222222222222222,
             "#7201a8"
            ],
            [
             0.3333333333333333,
             "#9c179e"
            ],
            [
             0.4444444444444444,
             "#bd3786"
            ],
            [
             0.5555555555555556,
             "#d8576b"
            ],
            [
             0.6666666666666666,
             "#ed7953"
            ],
            [
             0.7777777777777778,
             "#fb9f3a"
            ],
            [
             0.8888888888888888,
             "#fdca26"
            ],
            [
             1,
             "#f0f921"
            ]
           ],
           "sequentialminus": [
            [
             0,
             "#0d0887"
            ],
            [
             0.1111111111111111,
             "#46039f"
            ],
            [
             0.2222222222222222,
             "#7201a8"
            ],
            [
             0.3333333333333333,
             "#9c179e"
            ],
            [
             0.4444444444444444,
             "#bd3786"
            ],
            [
             0.5555555555555556,
             "#d8576b"
            ],
            [
             0.6666666666666666,
             "#ed7953"
            ],
            [
             0.7777777777777778,
             "#fb9f3a"
            ],
            [
             0.8888888888888888,
             "#fdca26"
            ],
            [
             1,
             "#f0f921"
            ]
           ]
          },
          "colorway": [
           "#636efa",
           "#EF553B",
           "#00cc96",
           "#ab63fa",
           "#FFA15A",
           "#19d3f3",
           "#FF6692",
           "#B6E880",
           "#FF97FF",
           "#FECB52"
          ],
          "font": {
           "color": "#2a3f5f"
          },
          "geo": {
           "bgcolor": "white",
           "lakecolor": "white",
           "landcolor": "#E5ECF6",
           "showlakes": true,
           "showland": true,
           "subunitcolor": "white"
          },
          "hoverlabel": {
           "align": "left"
          },
          "hovermode": "closest",
          "mapbox": {
           "style": "light"
          },
          "paper_bgcolor": "white",
          "plot_bgcolor": "#E5ECF6",
          "polar": {
           "angularaxis": {
            "gridcolor": "white",
            "linecolor": "white",
            "ticks": ""
           },
           "bgcolor": "#E5ECF6",
           "radialaxis": {
            "gridcolor": "white",
            "linecolor": "white",
            "ticks": ""
           }
          },
          "scene": {
           "xaxis": {
            "backgroundcolor": "#E5ECF6",
            "gridcolor": "white",
            "gridwidth": 2,
            "linecolor": "white",
            "showbackground": true,
            "ticks": "",
            "zerolinecolor": "white"
           },
           "yaxis": {
            "backgroundcolor": "#E5ECF6",
            "gridcolor": "white",
            "gridwidth": 2,
            "linecolor": "white",
            "showbackground": true,
            "ticks": "",
            "zerolinecolor": "white"
           },
           "zaxis": {
            "backgroundcolor": "#E5ECF6",
            "gridcolor": "white",
            "gridwidth": 2,
            "linecolor": "white",
            "showbackground": true,
            "ticks": "",
            "zerolinecolor": "white"
           }
          },
          "shapedefaults": {
           "line": {
            "color": "#2a3f5f"
           }
          },
          "ternary": {
           "aaxis": {
            "gridcolor": "white",
            "linecolor": "white",
            "ticks": ""
           },
           "baxis": {
            "gridcolor": "white",
            "linecolor": "white",
            "ticks": ""
           },
           "bgcolor": "#E5ECF6",
           "caxis": {
            "gridcolor": "white",
            "linecolor": "white",
            "ticks": ""
           }
          },
          "title": {
           "x": 0.05
          },
          "xaxis": {
           "automargin": true,
           "gridcolor": "white",
           "linecolor": "white",
           "ticks": "",
           "title": {
            "standoff": 15
           },
           "zerolinecolor": "white",
           "zerolinewidth": 2
          },
          "yaxis": {
           "automargin": true,
           "gridcolor": "white",
           "linecolor": "white",
           "ticks": "",
           "title": {
            "standoff": 15
           },
           "zerolinecolor": "white",
           "zerolinewidth": 2
          }
         }
        }
       }
      },
      "text/html": [
       "<div>\n",
       "        \n",
       "        \n",
       "            <div id=\"0ceddedc-4604-42ef-a2d0-eccc72f1b84e\" class=\"plotly-graph-div\" style=\"height:525px; width:100%;\"></div>\n",
       "            <script type=\"text/javascript\">\n",
       "                require([\"plotly\"], function(Plotly) {\n",
       "                    window.PLOTLYENV=window.PLOTLYENV || {};\n",
       "                    \n",
       "                if (document.getElementById(\"0ceddedc-4604-42ef-a2d0-eccc72f1b84e\")) {\n",
       "                    Plotly.newPlot(\n",
       "                        '0ceddedc-4604-42ef-a2d0-eccc72f1b84e',\n",
       "                        [{\"domain\": {\"x\": [0.0, 1.0], \"y\": [0.0, 1.0]}, \"hovertemplate\": \"label=%{label}<br>value=%{value}<extra></extra>\", \"labels\": [\"aggravated-assault\", \"arson\", \"burglary\", \"homicide\", \"human-trafficing\", \"larceny\", \"motor-vehicle-theft\", \"property-crime\", \"rape\", \"rape-legacy\", \"robbery\", \"violent-crime\"], \"legendgroup\": \"\", \"name\": \"\", \"showlegend\": true, \"type\": \"pie\", \"values\": [22108, 4637, 89025, 266, 0, 364881, 58657, 512563, 2195, 4055, 11521, 39258]}],\n",
       "                        {\"legend\": {\"tracegroupgap\": 0}, \"margin\": {\"t\": 60}, \"template\": {\"data\": {\"bar\": [{\"error_x\": {\"color\": \"#2a3f5f\"}, \"error_y\": {\"color\": \"#2a3f5f\"}, \"marker\": {\"line\": {\"color\": \"#E5ECF6\", \"width\": 0.5}}, \"type\": \"bar\"}], \"barpolar\": [{\"marker\": {\"line\": {\"color\": \"#E5ECF6\", \"width\": 0.5}}, \"type\": \"barpolar\"}], \"carpet\": [{\"aaxis\": {\"endlinecolor\": \"#2a3f5f\", \"gridcolor\": \"white\", \"linecolor\": \"white\", \"minorgridcolor\": \"white\", \"startlinecolor\": \"#2a3f5f\"}, \"baxis\": {\"endlinecolor\": \"#2a3f5f\", \"gridcolor\": \"white\", \"linecolor\": \"white\", \"minorgridcolor\": \"white\", \"startlinecolor\": \"#2a3f5f\"}, \"type\": \"carpet\"}], \"choropleth\": [{\"colorbar\": {\"outlinewidth\": 0, \"ticks\": \"\"}, \"type\": \"choropleth\"}], \"contour\": [{\"colorbar\": {\"outlinewidth\": 0, \"ticks\": \"\"}, \"colorscale\": [[0.0, \"#0d0887\"], [0.1111111111111111, \"#46039f\"], [0.2222222222222222, \"#7201a8\"], [0.3333333333333333, \"#9c179e\"], [0.4444444444444444, \"#bd3786\"], [0.5555555555555556, \"#d8576b\"], [0.6666666666666666, \"#ed7953\"], [0.7777777777777778, \"#fb9f3a\"], [0.8888888888888888, \"#fdca26\"], [1.0, \"#f0f921\"]], \"type\": \"contour\"}], \"contourcarpet\": [{\"colorbar\": {\"outlinewidth\": 0, \"ticks\": \"\"}, \"type\": \"contourcarpet\"}], \"heatmap\": [{\"colorbar\": {\"outlinewidth\": 0, \"ticks\": \"\"}, \"colorscale\": [[0.0, \"#0d0887\"], [0.1111111111111111, \"#46039f\"], [0.2222222222222222, \"#7201a8\"], [0.3333333333333333, \"#9c179e\"], [0.4444444444444444, \"#bd3786\"], [0.5555555555555556, \"#d8576b\"], [0.6666666666666666, \"#ed7953\"], [0.7777777777777778, \"#fb9f3a\"], [0.8888888888888888, \"#fdca26\"], [1.0, \"#f0f921\"]], \"type\": \"heatmap\"}], \"heatmapgl\": [{\"colorbar\": {\"outlinewidth\": 0, \"ticks\": \"\"}, \"colorscale\": [[0.0, \"#0d0887\"], [0.1111111111111111, \"#46039f\"], [0.2222222222222222, \"#7201a8\"], [0.3333333333333333, \"#9c179e\"], [0.4444444444444444, \"#bd3786\"], [0.5555555555555556, \"#d8576b\"], [0.6666666666666666, \"#ed7953\"], [0.7777777777777778, \"#fb9f3a\"], [0.8888888888888888, \"#fdca26\"], [1.0, \"#f0f921\"]], \"type\": \"heatmapgl\"}], \"histogram\": [{\"marker\": {\"colorbar\": {\"outlinewidth\": 0, \"ticks\": \"\"}}, \"type\": \"histogram\"}], \"histogram2d\": [{\"colorbar\": {\"outlinewidth\": 0, \"ticks\": \"\"}, \"colorscale\": [[0.0, \"#0d0887\"], [0.1111111111111111, \"#46039f\"], [0.2222222222222222, \"#7201a8\"], [0.3333333333333333, \"#9c179e\"], [0.4444444444444444, \"#bd3786\"], [0.5555555555555556, \"#d8576b\"], [0.6666666666666666, \"#ed7953\"], [0.7777777777777778, \"#fb9f3a\"], [0.8888888888888888, \"#fdca26\"], [1.0, \"#f0f921\"]], \"type\": \"histogram2d\"}], \"histogram2dcontour\": [{\"colorbar\": {\"outlinewidth\": 0, \"ticks\": \"\"}, \"colorscale\": [[0.0, \"#0d0887\"], [0.1111111111111111, \"#46039f\"], [0.2222222222222222, \"#7201a8\"], [0.3333333333333333, \"#9c179e\"], [0.4444444444444444, \"#bd3786\"], [0.5555555555555556, \"#d8576b\"], [0.6666666666666666, \"#ed7953\"], [0.7777777777777778, \"#fb9f3a\"], [0.8888888888888888, \"#fdca26\"], [1.0, \"#f0f921\"]], \"type\": \"histogram2dcontour\"}], \"mesh3d\": [{\"colorbar\": {\"outlinewidth\": 0, \"ticks\": \"\"}, \"type\": \"mesh3d\"}], \"parcoords\": [{\"line\": {\"colorbar\": {\"outlinewidth\": 0, \"ticks\": \"\"}}, \"type\": \"parcoords\"}], \"pie\": [{\"automargin\": true, \"type\": \"pie\"}], \"scatter\": [{\"marker\": {\"colorbar\": {\"outlinewidth\": 0, \"ticks\": \"\"}}, \"type\": \"scatter\"}], \"scatter3d\": [{\"line\": {\"colorbar\": {\"outlinewidth\": 0, \"ticks\": \"\"}}, \"marker\": {\"colorbar\": {\"outlinewidth\": 0, \"ticks\": \"\"}}, \"type\": \"scatter3d\"}], \"scattercarpet\": [{\"marker\": {\"colorbar\": {\"outlinewidth\": 0, \"ticks\": \"\"}}, \"type\": \"scattercarpet\"}], \"scattergeo\": [{\"marker\": {\"colorbar\": {\"outlinewidth\": 0, \"ticks\": \"\"}}, \"type\": \"scattergeo\"}], \"scattergl\": [{\"marker\": {\"colorbar\": {\"outlinewidth\": 0, \"ticks\": \"\"}}, \"type\": \"scattergl\"}], \"scattermapbox\": [{\"marker\": {\"colorbar\": {\"outlinewidth\": 0, \"ticks\": \"\"}}, \"type\": \"scattermapbox\"}], \"scatterpolar\": [{\"marker\": {\"colorbar\": {\"outlinewidth\": 0, \"ticks\": \"\"}}, \"type\": \"scatterpolar\"}], \"scatterpolargl\": [{\"marker\": {\"colorbar\": {\"outlinewidth\": 0, \"ticks\": \"\"}}, \"type\": \"scatterpolargl\"}], \"scatterternary\": [{\"marker\": {\"colorbar\": {\"outlinewidth\": 0, \"ticks\": \"\"}}, \"type\": \"scatterternary\"}], \"surface\": [{\"colorbar\": {\"outlinewidth\": 0, \"ticks\": \"\"}, \"colorscale\": [[0.0, \"#0d0887\"], [0.1111111111111111, \"#46039f\"], [0.2222222222222222, \"#7201a8\"], [0.3333333333333333, \"#9c179e\"], [0.4444444444444444, \"#bd3786\"], [0.5555555555555556, \"#d8576b\"], [0.6666666666666666, \"#ed7953\"], [0.7777777777777778, \"#fb9f3a\"], [0.8888888888888888, \"#fdca26\"], [1.0, \"#f0f921\"]], \"type\": \"surface\"}], \"table\": [{\"cells\": {\"fill\": {\"color\": \"#EBF0F8\"}, \"line\": {\"color\": \"white\"}}, \"header\": {\"fill\": {\"color\": \"#C8D4E3\"}, \"line\": {\"color\": \"white\"}}, \"type\": \"table\"}]}, \"layout\": {\"annotationdefaults\": {\"arrowcolor\": \"#2a3f5f\", \"arrowhead\": 0, \"arrowwidth\": 1}, \"coloraxis\": {\"colorbar\": {\"outlinewidth\": 0, \"ticks\": \"\"}}, \"colorscale\": {\"diverging\": [[0, \"#8e0152\"], [0.1, \"#c51b7d\"], [0.2, \"#de77ae\"], [0.3, \"#f1b6da\"], [0.4, \"#fde0ef\"], [0.5, \"#f7f7f7\"], [0.6, \"#e6f5d0\"], [0.7, \"#b8e186\"], [0.8, \"#7fbc41\"], [0.9, \"#4d9221\"], [1, \"#276419\"]], \"sequential\": [[0.0, \"#0d0887\"], [0.1111111111111111, \"#46039f\"], [0.2222222222222222, \"#7201a8\"], [0.3333333333333333, \"#9c179e\"], [0.4444444444444444, \"#bd3786\"], [0.5555555555555556, \"#d8576b\"], [0.6666666666666666, \"#ed7953\"], [0.7777777777777778, \"#fb9f3a\"], [0.8888888888888888, \"#fdca26\"], [1.0, \"#f0f921\"]], \"sequentialminus\": [[0.0, \"#0d0887\"], [0.1111111111111111, \"#46039f\"], [0.2222222222222222, \"#7201a8\"], [0.3333333333333333, \"#9c179e\"], [0.4444444444444444, \"#bd3786\"], [0.5555555555555556, \"#d8576b\"], [0.6666666666666666, \"#ed7953\"], [0.7777777777777778, \"#fb9f3a\"], [0.8888888888888888, \"#fdca26\"], [1.0, \"#f0f921\"]]}, \"colorway\": [\"#636efa\", \"#EF553B\", \"#00cc96\", \"#ab63fa\", \"#FFA15A\", \"#19d3f3\", \"#FF6692\", \"#B6E880\", \"#FF97FF\", \"#FECB52\"], \"font\": {\"color\": \"#2a3f5f\"}, \"geo\": {\"bgcolor\": \"white\", \"lakecolor\": \"white\", \"landcolor\": \"#E5ECF6\", \"showlakes\": true, \"showland\": true, \"subunitcolor\": \"white\"}, \"hoverlabel\": {\"align\": \"left\"}, \"hovermode\": \"closest\", \"mapbox\": {\"style\": \"light\"}, \"paper_bgcolor\": \"white\", \"plot_bgcolor\": \"#E5ECF6\", \"polar\": {\"angularaxis\": {\"gridcolor\": \"white\", \"linecolor\": \"white\", \"ticks\": \"\"}, \"bgcolor\": \"#E5ECF6\", \"radialaxis\": {\"gridcolor\": \"white\", \"linecolor\": \"white\", \"ticks\": \"\"}}, \"scene\": {\"xaxis\": {\"backgroundcolor\": \"#E5ECF6\", \"gridcolor\": \"white\", \"gridwidth\": 2, \"linecolor\": \"white\", \"showbackground\": true, \"ticks\": \"\", \"zerolinecolor\": \"white\"}, \"yaxis\": {\"backgroundcolor\": \"#E5ECF6\", \"gridcolor\": \"white\", \"gridwidth\": 2, \"linecolor\": \"white\", \"showbackground\": true, \"ticks\": \"\", \"zerolinecolor\": \"white\"}, \"zaxis\": {\"backgroundcolor\": \"#E5ECF6\", \"gridcolor\": \"white\", \"gridwidth\": 2, \"linecolor\": \"white\", \"showbackground\": true, \"ticks\": \"\", \"zerolinecolor\": \"white\"}}, \"shapedefaults\": {\"line\": {\"color\": \"#2a3f5f\"}}, \"ternary\": {\"aaxis\": {\"gridcolor\": \"white\", \"linecolor\": \"white\", \"ticks\": \"\"}, \"baxis\": {\"gridcolor\": \"white\", \"linecolor\": \"white\", \"ticks\": \"\"}, \"bgcolor\": \"#E5ECF6\", \"caxis\": {\"gridcolor\": \"white\", \"linecolor\": \"white\", \"ticks\": \"\"}}, \"title\": {\"x\": 0.05}, \"xaxis\": {\"automargin\": true, \"gridcolor\": \"white\", \"linecolor\": \"white\", \"ticks\": \"\", \"title\": {\"standoff\": 15}, \"zerolinecolor\": \"white\", \"zerolinewidth\": 2}, \"yaxis\": {\"automargin\": true, \"gridcolor\": \"white\", \"linecolor\": \"white\", \"ticks\": \"\", \"title\": {\"standoff\": 15}, \"zerolinecolor\": \"white\", \"zerolinewidth\": 2}}}},\n",
       "                        {\"responsive\": true}\n",
       "                    ).then(function(){\n",
       "                            \n",
       "var gd = document.getElementById('0ceddedc-4604-42ef-a2d0-eccc72f1b84e');\n",
       "var x = new MutationObserver(function (mutations, observer) {{\n",
       "        var display = window.getComputedStyle(gd).display;\n",
       "        if (!display || display === 'none') {{\n",
       "            console.log([gd, 'removed!']);\n",
       "            Plotly.purge(gd);\n",
       "            observer.disconnect();\n",
       "        }}\n",
       "}});\n",
       "\n",
       "// Listen for the removal of the full notebook cells\n",
       "var notebookContainer = gd.closest('#notebook-container');\n",
       "if (notebookContainer) {{\n",
       "    x.observe(notebookContainer, {childList: true});\n",
       "}}\n",
       "\n",
       "// Listen for the clearing of the current output cell\n",
       "var outputEl = gd.closest('.output');\n",
       "if (outputEl) {{\n",
       "    x.observe(outputEl, {childList: true});\n",
       "}}\n",
       "\n",
       "                        })\n",
       "                };\n",
       "                });\n",
       "            </script>\n",
       "        </div>"
      ]
     },
     "metadata": {},
     "output_type": "display_data"
    },
    {
     "data": {
      "text/plain": [
       "<Figure size 1080x720 with 0 Axes>"
      ]
     },
     "metadata": {},
     "output_type": "display_data"
    }
   ],
   "source": [
    "#Graph2 : Pie Chart\n",
    "plt.figure(figsize=(15,10))\n",
    "labels = 'aggravated-assault', 'arson', 'burglary', 'homicide','human-trafficing','larceny','motor-vehicle-theft','property-crime','rape','rape-legacy','robbery','violent-crime'\n",
    "sizes=[22108,4637,89025,266,0,364881,58657,512563,2195,4055,11521,39258]\n",
    "fig = px.pie(labels, values=sizes, names=labels)\n",
    "fig.show()"
   ]
  },
  {
   "cell_type": "code",
   "execution_count": 24,
   "metadata": {},
   "outputs": [
    {
     "data": {
      "application/vnd.plotly.v1+json": {
       "config": {
        "plotlyServerURL": "https://plot.ly"
       },
       "data": [
        {
         "line": {
          "color": "firebrick",
          "width": 4
         },
         "name": "homicide",
         "type": "scatter",
         "x": [
          "2006",
          "2007",
          "2008",
          "2009",
          "2010",
          "2011",
          "2012",
          "2013",
          "2014",
          "2016",
          "2015"
         ],
         "y": [
          "21",
          "24",
          "26",
          "23",
          "25",
          "20",
          "21",
          "32",
          "20",
          "35",
          "19"
         ]
        }
       ],
       "layout": {
        "template": {
         "data": {
          "bar": [
           {
            "error_x": {
             "color": "#2a3f5f"
            },
            "error_y": {
             "color": "#2a3f5f"
            },
            "marker": {
             "line": {
              "color": "#E5ECF6",
              "width": 0.5
             }
            },
            "type": "bar"
           }
          ],
          "barpolar": [
           {
            "marker": {
             "line": {
              "color": "#E5ECF6",
              "width": 0.5
             }
            },
            "type": "barpolar"
           }
          ],
          "carpet": [
           {
            "aaxis": {
             "endlinecolor": "#2a3f5f",
             "gridcolor": "white",
             "linecolor": "white",
             "minorgridcolor": "white",
             "startlinecolor": "#2a3f5f"
            },
            "baxis": {
             "endlinecolor": "#2a3f5f",
             "gridcolor": "white",
             "linecolor": "white",
             "minorgridcolor": "white",
             "startlinecolor": "#2a3f5f"
            },
            "type": "carpet"
           }
          ],
          "choropleth": [
           {
            "colorbar": {
             "outlinewidth": 0,
             "ticks": ""
            },
            "type": "choropleth"
           }
          ],
          "contour": [
           {
            "colorbar": {
             "outlinewidth": 0,
             "ticks": ""
            },
            "colorscale": [
             [
              0,
              "#0d0887"
             ],
             [
              0.1111111111111111,
              "#46039f"
             ],
             [
              0.2222222222222222,
              "#7201a8"
             ],
             [
              0.3333333333333333,
              "#9c179e"
             ],
             [
              0.4444444444444444,
              "#bd3786"
             ],
             [
              0.5555555555555556,
              "#d8576b"
             ],
             [
              0.6666666666666666,
              "#ed7953"
             ],
             [
              0.7777777777777778,
              "#fb9f3a"
             ],
             [
              0.8888888888888888,
              "#fdca26"
             ],
             [
              1,
              "#f0f921"
             ]
            ],
            "type": "contour"
           }
          ],
          "contourcarpet": [
           {
            "colorbar": {
             "outlinewidth": 0,
             "ticks": ""
            },
            "type": "contourcarpet"
           }
          ],
          "heatmap": [
           {
            "colorbar": {
             "outlinewidth": 0,
             "ticks": ""
            },
            "colorscale": [
             [
              0,
              "#0d0887"
             ],
             [
              0.1111111111111111,
              "#46039f"
             ],
             [
              0.2222222222222222,
              "#7201a8"
             ],
             [
              0.3333333333333333,
              "#9c179e"
             ],
             [
              0.4444444444444444,
              "#bd3786"
             ],
             [
              0.5555555555555556,
              "#d8576b"
             ],
             [
              0.6666666666666666,
              "#ed7953"
             ],
             [
              0.7777777777777778,
              "#fb9f3a"
             ],
             [
              0.8888888888888888,
              "#fdca26"
             ],
             [
              1,
              "#f0f921"
             ]
            ],
            "type": "heatmap"
           }
          ],
          "heatmapgl": [
           {
            "colorbar": {
             "outlinewidth": 0,
             "ticks": ""
            },
            "colorscale": [
             [
              0,
              "#0d0887"
             ],
             [
              0.1111111111111111,
              "#46039f"
             ],
             [
              0.2222222222222222,
              "#7201a8"
             ],
             [
              0.3333333333333333,
              "#9c179e"
             ],
             [
              0.4444444444444444,
              "#bd3786"
             ],
             [
              0.5555555555555556,
              "#d8576b"
             ],
             [
              0.6666666666666666,
              "#ed7953"
             ],
             [
              0.7777777777777778,
              "#fb9f3a"
             ],
             [
              0.8888888888888888,
              "#fdca26"
             ],
             [
              1,
              "#f0f921"
             ]
            ],
            "type": "heatmapgl"
           }
          ],
          "histogram": [
           {
            "marker": {
             "colorbar": {
              "outlinewidth": 0,
              "ticks": ""
             }
            },
            "type": "histogram"
           }
          ],
          "histogram2d": [
           {
            "colorbar": {
             "outlinewidth": 0,
             "ticks": ""
            },
            "colorscale": [
             [
              0,
              "#0d0887"
             ],
             [
              0.1111111111111111,
              "#46039f"
             ],
             [
              0.2222222222222222,
              "#7201a8"
             ],
             [
              0.3333333333333333,
              "#9c179e"
             ],
             [
              0.4444444444444444,
              "#bd3786"
             ],
             [
              0.5555555555555556,
              "#d8576b"
             ],
             [
              0.6666666666666666,
              "#ed7953"
             ],
             [
              0.7777777777777778,
              "#fb9f3a"
             ],
             [
              0.8888888888888888,
              "#fdca26"
             ],
             [
              1,
              "#f0f921"
             ]
            ],
            "type": "histogram2d"
           }
          ],
          "histogram2dcontour": [
           {
            "colorbar": {
             "outlinewidth": 0,
             "ticks": ""
            },
            "colorscale": [
             [
              0,
              "#0d0887"
             ],
             [
              0.1111111111111111,
              "#46039f"
             ],
             [
              0.2222222222222222,
              "#7201a8"
             ],
             [
              0.3333333333333333,
              "#9c179e"
             ],
             [
              0.4444444444444444,
              "#bd3786"
             ],
             [
              0.5555555555555556,
              "#d8576b"
             ],
             [
              0.6666666666666666,
              "#ed7953"
             ],
             [
              0.7777777777777778,
              "#fb9f3a"
             ],
             [
              0.8888888888888888,
              "#fdca26"
             ],
             [
              1,
              "#f0f921"
             ]
            ],
            "type": "histogram2dcontour"
           }
          ],
          "mesh3d": [
           {
            "colorbar": {
             "outlinewidth": 0,
             "ticks": ""
            },
            "type": "mesh3d"
           }
          ],
          "parcoords": [
           {
            "line": {
             "colorbar": {
              "outlinewidth": 0,
              "ticks": ""
             }
            },
            "type": "parcoords"
           }
          ],
          "pie": [
           {
            "automargin": true,
            "type": "pie"
           }
          ],
          "scatter": [
           {
            "marker": {
             "colorbar": {
              "outlinewidth": 0,
              "ticks": ""
             }
            },
            "type": "scatter"
           }
          ],
          "scatter3d": [
           {
            "line": {
             "colorbar": {
              "outlinewidth": 0,
              "ticks": ""
             }
            },
            "marker": {
             "colorbar": {
              "outlinewidth": 0,
              "ticks": ""
             }
            },
            "type": "scatter3d"
           }
          ],
          "scattercarpet": [
           {
            "marker": {
             "colorbar": {
              "outlinewidth": 0,
              "ticks": ""
             }
            },
            "type": "scattercarpet"
           }
          ],
          "scattergeo": [
           {
            "marker": {
             "colorbar": {
              "outlinewidth": 0,
              "ticks": ""
             }
            },
            "type": "scattergeo"
           }
          ],
          "scattergl": [
           {
            "marker": {
             "colorbar": {
              "outlinewidth": 0,
              "ticks": ""
             }
            },
            "type": "scattergl"
           }
          ],
          "scattermapbox": [
           {
            "marker": {
             "colorbar": {
              "outlinewidth": 0,
              "ticks": ""
             }
            },
            "type": "scattermapbox"
           }
          ],
          "scatterpolar": [
           {
            "marker": {
             "colorbar": {
              "outlinewidth": 0,
              "ticks": ""
             }
            },
            "type": "scatterpolar"
           }
          ],
          "scatterpolargl": [
           {
            "marker": {
             "colorbar": {
              "outlinewidth": 0,
              "ticks": ""
             }
            },
            "type": "scatterpolargl"
           }
          ],
          "scatterternary": [
           {
            "marker": {
             "colorbar": {
              "outlinewidth": 0,
              "ticks": ""
             }
            },
            "type": "scatterternary"
           }
          ],
          "surface": [
           {
            "colorbar": {
             "outlinewidth": 0,
             "ticks": ""
            },
            "colorscale": [
             [
              0,
              "#0d0887"
             ],
             [
              0.1111111111111111,
              "#46039f"
             ],
             [
              0.2222222222222222,
              "#7201a8"
             ],
             [
              0.3333333333333333,
              "#9c179e"
             ],
             [
              0.4444444444444444,
              "#bd3786"
             ],
             [
              0.5555555555555556,
              "#d8576b"
             ],
             [
              0.6666666666666666,
              "#ed7953"
             ],
             [
              0.7777777777777778,
              "#fb9f3a"
             ],
             [
              0.8888888888888888,
              "#fdca26"
             ],
             [
              1,
              "#f0f921"
             ]
            ],
            "type": "surface"
           }
          ],
          "table": [
           {
            "cells": {
             "fill": {
              "color": "#EBF0F8"
             },
             "line": {
              "color": "white"
             }
            },
            "header": {
             "fill": {
              "color": "#C8D4E3"
             },
             "line": {
              "color": "white"
             }
            },
            "type": "table"
           }
          ]
         },
         "layout": {
          "annotationdefaults": {
           "arrowcolor": "#2a3f5f",
           "arrowhead": 0,
           "arrowwidth": 1
          },
          "coloraxis": {
           "colorbar": {
            "outlinewidth": 0,
            "ticks": ""
           }
          },
          "colorscale": {
           "diverging": [
            [
             0,
             "#8e0152"
            ],
            [
             0.1,
             "#c51b7d"
            ],
            [
             0.2,
             "#de77ae"
            ],
            [
             0.3,
             "#f1b6da"
            ],
            [
             0.4,
             "#fde0ef"
            ],
            [
             0.5,
             "#f7f7f7"
            ],
            [
             0.6,
             "#e6f5d0"
            ],
            [
             0.7,
             "#b8e186"
            ],
            [
             0.8,
             "#7fbc41"
            ],
            [
             0.9,
             "#4d9221"
            ],
            [
             1,
             "#276419"
            ]
           ],
           "sequential": [
            [
             0,
             "#0d0887"
            ],
            [
             0.1111111111111111,
             "#46039f"
            ],
            [
             0.2222222222222222,
             "#7201a8"
            ],
            [
             0.3333333333333333,
             "#9c179e"
            ],
            [
             0.4444444444444444,
             "#bd3786"
            ],
            [
             0.5555555555555556,
             "#d8576b"
            ],
            [
             0.6666666666666666,
             "#ed7953"
            ],
            [
             0.7777777777777778,
             "#fb9f3a"
            ],
            [
             0.8888888888888888,
             "#fdca26"
            ],
            [
             1,
             "#f0f921"
            ]
           ],
           "sequentialminus": [
            [
             0,
             "#0d0887"
            ],
            [
             0.1111111111111111,
             "#46039f"
            ],
            [
             0.2222222222222222,
             "#7201a8"
            ],
            [
             0.3333333333333333,
             "#9c179e"
            ],
            [
             0.4444444444444444,
             "#bd3786"
            ],
            [
             0.5555555555555556,
             "#d8576b"
            ],
            [
             0.6666666666666666,
             "#ed7953"
            ],
            [
             0.7777777777777778,
             "#fb9f3a"
            ],
            [
             0.8888888888888888,
             "#fdca26"
            ],
            [
             1,
             "#f0f921"
            ]
           ]
          },
          "colorway": [
           "#636efa",
           "#EF553B",
           "#00cc96",
           "#ab63fa",
           "#FFA15A",
           "#19d3f3",
           "#FF6692",
           "#B6E880",
           "#FF97FF",
           "#FECB52"
          ],
          "font": {
           "color": "#2a3f5f"
          },
          "geo": {
           "bgcolor": "white",
           "lakecolor": "white",
           "landcolor": "#E5ECF6",
           "showlakes": true,
           "showland": true,
           "subunitcolor": "white"
          },
          "hoverlabel": {
           "align": "left"
          },
          "hovermode": "closest",
          "mapbox": {
           "style": "light"
          },
          "paper_bgcolor": "white",
          "plot_bgcolor": "#E5ECF6",
          "polar": {
           "angularaxis": {
            "gridcolor": "white",
            "linecolor": "white",
            "ticks": ""
           },
           "bgcolor": "#E5ECF6",
           "radialaxis": {
            "gridcolor": "white",
            "linecolor": "white",
            "ticks": ""
           }
          },
          "scene": {
           "xaxis": {
            "backgroundcolor": "#E5ECF6",
            "gridcolor": "white",
            "gridwidth": 2,
            "linecolor": "white",
            "showbackground": true,
            "ticks": "",
            "zerolinecolor": "white"
           },
           "yaxis": {
            "backgroundcolor": "#E5ECF6",
            "gridcolor": "white",
            "gridwidth": 2,
            "linecolor": "white",
            "showbackground": true,
            "ticks": "",
            "zerolinecolor": "white"
           },
           "zaxis": {
            "backgroundcolor": "#E5ECF6",
            "gridcolor": "white",
            "gridwidth": 2,
            "linecolor": "white",
            "showbackground": true,
            "ticks": "",
            "zerolinecolor": "white"
           }
          },
          "shapedefaults": {
           "line": {
            "color": "#2a3f5f"
           }
          },
          "ternary": {
           "aaxis": {
            "gridcolor": "white",
            "linecolor": "white",
            "ticks": ""
           },
           "baxis": {
            "gridcolor": "white",
            "linecolor": "white",
            "ticks": ""
           },
           "bgcolor": "#E5ECF6",
           "caxis": {
            "gridcolor": "white",
            "linecolor": "white",
            "ticks": ""
           }
          },
          "title": {
           "x": 0.05
          },
          "xaxis": {
           "automargin": true,
           "gridcolor": "white",
           "linecolor": "white",
           "ticks": "",
           "title": {
            "standoff": 15
           },
           "zerolinecolor": "white",
           "zerolinewidth": 2
          },
          "yaxis": {
           "automargin": true,
           "gridcolor": "white",
           "linecolor": "white",
           "ticks": "",
           "title": {
            "standoff": 15
           },
           "zerolinecolor": "white",
           "zerolinewidth": 2
          }
         }
        }
       }
      },
      "text/html": [
       "<div>\n",
       "        \n",
       "        \n",
       "            <div id=\"92745374-158c-43f6-a84e-3e623a1bc209\" class=\"plotly-graph-div\" style=\"height:525px; width:100%;\"></div>\n",
       "            <script type=\"text/javascript\">\n",
       "                require([\"plotly\"], function(Plotly) {\n",
       "                    window.PLOTLYENV=window.PLOTLYENV || {};\n",
       "                    \n",
       "                if (document.getElementById(\"92745374-158c-43f6-a84e-3e623a1bc209\")) {\n",
       "                    Plotly.newPlot(\n",
       "                        '92745374-158c-43f6-a84e-3e623a1bc209',\n",
       "                        [{\"line\": {\"color\": \"firebrick\", \"width\": 4}, \"name\": \"homicide\", \"type\": \"scatter\", \"x\": [\"2006\", \"2007\", \"2008\", \"2009\", \"2010\", \"2011\", \"2012\", \"2013\", \"2014\", \"2016\", \"2015\"], \"y\": [\"21\", \"24\", \"26\", \"23\", \"25\", \"20\", \"21\", \"32\", \"20\", \"35\", \"19\"]}],\n",
       "                        {\"template\": {\"data\": {\"bar\": [{\"error_x\": {\"color\": \"#2a3f5f\"}, \"error_y\": {\"color\": \"#2a3f5f\"}, \"marker\": {\"line\": {\"color\": \"#E5ECF6\", \"width\": 0.5}}, \"type\": \"bar\"}], \"barpolar\": [{\"marker\": {\"line\": {\"color\": \"#E5ECF6\", \"width\": 0.5}}, \"type\": \"barpolar\"}], \"carpet\": [{\"aaxis\": {\"endlinecolor\": \"#2a3f5f\", \"gridcolor\": \"white\", \"linecolor\": \"white\", \"minorgridcolor\": \"white\", \"startlinecolor\": \"#2a3f5f\"}, \"baxis\": {\"endlinecolor\": \"#2a3f5f\", \"gridcolor\": \"white\", \"linecolor\": \"white\", \"minorgridcolor\": \"white\", \"startlinecolor\": \"#2a3f5f\"}, \"type\": \"carpet\"}], \"choropleth\": [{\"colorbar\": {\"outlinewidth\": 0, \"ticks\": \"\"}, \"type\": \"choropleth\"}], \"contour\": [{\"colorbar\": {\"outlinewidth\": 0, \"ticks\": \"\"}, \"colorscale\": [[0.0, \"#0d0887\"], [0.1111111111111111, \"#46039f\"], [0.2222222222222222, \"#7201a8\"], [0.3333333333333333, \"#9c179e\"], [0.4444444444444444, \"#bd3786\"], [0.5555555555555556, \"#d8576b\"], [0.6666666666666666, \"#ed7953\"], [0.7777777777777778, \"#fb9f3a\"], [0.8888888888888888, \"#fdca26\"], [1.0, \"#f0f921\"]], \"type\": \"contour\"}], \"contourcarpet\": [{\"colorbar\": {\"outlinewidth\": 0, \"ticks\": \"\"}, \"type\": \"contourcarpet\"}], \"heatmap\": [{\"colorbar\": {\"outlinewidth\": 0, \"ticks\": \"\"}, \"colorscale\": [[0.0, \"#0d0887\"], [0.1111111111111111, \"#46039f\"], [0.2222222222222222, \"#7201a8\"], [0.3333333333333333, \"#9c179e\"], [0.4444444444444444, \"#bd3786\"], [0.5555555555555556, \"#d8576b\"], [0.6666666666666666, \"#ed7953\"], [0.7777777777777778, \"#fb9f3a\"], [0.8888888888888888, \"#fdca26\"], [1.0, \"#f0f921\"]], \"type\": \"heatmap\"}], \"heatmapgl\": [{\"colorbar\": {\"outlinewidth\": 0, \"ticks\": \"\"}, \"colorscale\": [[0.0, \"#0d0887\"], [0.1111111111111111, \"#46039f\"], [0.2222222222222222, \"#7201a8\"], [0.3333333333333333, \"#9c179e\"], [0.4444444444444444, \"#bd3786\"], [0.5555555555555556, \"#d8576b\"], [0.6666666666666666, \"#ed7953\"], [0.7777777777777778, \"#fb9f3a\"], [0.8888888888888888, \"#fdca26\"], [1.0, \"#f0f921\"]], \"type\": \"heatmapgl\"}], \"histogram\": [{\"marker\": {\"colorbar\": {\"outlinewidth\": 0, \"ticks\": \"\"}}, \"type\": \"histogram\"}], \"histogram2d\": [{\"colorbar\": {\"outlinewidth\": 0, \"ticks\": \"\"}, \"colorscale\": [[0.0, \"#0d0887\"], [0.1111111111111111, \"#46039f\"], [0.2222222222222222, \"#7201a8\"], [0.3333333333333333, \"#9c179e\"], [0.4444444444444444, \"#bd3786\"], [0.5555555555555556, \"#d8576b\"], [0.6666666666666666, \"#ed7953\"], [0.7777777777777778, \"#fb9f3a\"], [0.8888888888888888, \"#fdca26\"], [1.0, \"#f0f921\"]], \"type\": \"histogram2d\"}], \"histogram2dcontour\": [{\"colorbar\": {\"outlinewidth\": 0, \"ticks\": \"\"}, \"colorscale\": [[0.0, \"#0d0887\"], [0.1111111111111111, \"#46039f\"], [0.2222222222222222, \"#7201a8\"], [0.3333333333333333, \"#9c179e\"], [0.4444444444444444, \"#bd3786\"], [0.5555555555555556, \"#d8576b\"], [0.6666666666666666, \"#ed7953\"], [0.7777777777777778, \"#fb9f3a\"], [0.8888888888888888, \"#fdca26\"], [1.0, \"#f0f921\"]], \"type\": \"histogram2dcontour\"}], \"mesh3d\": [{\"colorbar\": {\"outlinewidth\": 0, \"ticks\": \"\"}, \"type\": \"mesh3d\"}], \"parcoords\": [{\"line\": {\"colorbar\": {\"outlinewidth\": 0, \"ticks\": \"\"}}, \"type\": \"parcoords\"}], \"pie\": [{\"automargin\": true, \"type\": \"pie\"}], \"scatter\": [{\"marker\": {\"colorbar\": {\"outlinewidth\": 0, \"ticks\": \"\"}}, \"type\": \"scatter\"}], \"scatter3d\": [{\"line\": {\"colorbar\": {\"outlinewidth\": 0, \"ticks\": \"\"}}, \"marker\": {\"colorbar\": {\"outlinewidth\": 0, \"ticks\": \"\"}}, \"type\": \"scatter3d\"}], \"scattercarpet\": [{\"marker\": {\"colorbar\": {\"outlinewidth\": 0, \"ticks\": \"\"}}, \"type\": \"scattercarpet\"}], \"scattergeo\": [{\"marker\": {\"colorbar\": {\"outlinewidth\": 0, \"ticks\": \"\"}}, \"type\": \"scattergeo\"}], \"scattergl\": [{\"marker\": {\"colorbar\": {\"outlinewidth\": 0, \"ticks\": \"\"}}, \"type\": \"scattergl\"}], \"scattermapbox\": [{\"marker\": {\"colorbar\": {\"outlinewidth\": 0, \"ticks\": \"\"}}, \"type\": \"scattermapbox\"}], \"scatterpolar\": [{\"marker\": {\"colorbar\": {\"outlinewidth\": 0, \"ticks\": \"\"}}, \"type\": \"scatterpolar\"}], \"scatterpolargl\": [{\"marker\": {\"colorbar\": {\"outlinewidth\": 0, \"ticks\": \"\"}}, \"type\": \"scatterpolargl\"}], \"scatterternary\": [{\"marker\": {\"colorbar\": {\"outlinewidth\": 0, \"ticks\": \"\"}}, \"type\": \"scatterternary\"}], \"surface\": [{\"colorbar\": {\"outlinewidth\": 0, \"ticks\": \"\"}, \"colorscale\": [[0.0, \"#0d0887\"], [0.1111111111111111, \"#46039f\"], [0.2222222222222222, \"#7201a8\"], [0.3333333333333333, \"#9c179e\"], [0.4444444444444444, \"#bd3786\"], [0.5555555555555556, \"#d8576b\"], [0.6666666666666666, \"#ed7953\"], [0.7777777777777778, \"#fb9f3a\"], [0.8888888888888888, \"#fdca26\"], [1.0, \"#f0f921\"]], \"type\": \"surface\"}], \"table\": [{\"cells\": {\"fill\": {\"color\": \"#EBF0F8\"}, \"line\": {\"color\": \"white\"}}, \"header\": {\"fill\": {\"color\": \"#C8D4E3\"}, \"line\": {\"color\": \"white\"}}, \"type\": \"table\"}]}, \"layout\": {\"annotationdefaults\": {\"arrowcolor\": \"#2a3f5f\", \"arrowhead\": 0, \"arrowwidth\": 1}, \"coloraxis\": {\"colorbar\": {\"outlinewidth\": 0, \"ticks\": \"\"}}, \"colorscale\": {\"diverging\": [[0, \"#8e0152\"], [0.1, \"#c51b7d\"], [0.2, \"#de77ae\"], [0.3, \"#f1b6da\"], [0.4, \"#fde0ef\"], [0.5, \"#f7f7f7\"], [0.6, \"#e6f5d0\"], [0.7, \"#b8e186\"], [0.8, \"#7fbc41\"], [0.9, \"#4d9221\"], [1, \"#276419\"]], \"sequential\": [[0.0, \"#0d0887\"], [0.1111111111111111, \"#46039f\"], [0.2222222222222222, \"#7201a8\"], [0.3333333333333333, \"#9c179e\"], [0.4444444444444444, \"#bd3786\"], [0.5555555555555556, \"#d8576b\"], [0.6666666666666666, \"#ed7953\"], [0.7777777777777778, \"#fb9f3a\"], [0.8888888888888888, \"#fdca26\"], [1.0, \"#f0f921\"]], \"sequentialminus\": [[0.0, \"#0d0887\"], [0.1111111111111111, \"#46039f\"], [0.2222222222222222, \"#7201a8\"], [0.3333333333333333, \"#9c179e\"], [0.4444444444444444, \"#bd3786\"], [0.5555555555555556, \"#d8576b\"], [0.6666666666666666, \"#ed7953\"], [0.7777777777777778, \"#fb9f3a\"], [0.8888888888888888, \"#fdca26\"], [1.0, \"#f0f921\"]]}, \"colorway\": [\"#636efa\", \"#EF553B\", \"#00cc96\", \"#ab63fa\", \"#FFA15A\", \"#19d3f3\", \"#FF6692\", \"#B6E880\", \"#FF97FF\", \"#FECB52\"], \"font\": {\"color\": \"#2a3f5f\"}, \"geo\": {\"bgcolor\": \"white\", \"lakecolor\": \"white\", \"landcolor\": \"#E5ECF6\", \"showlakes\": true, \"showland\": true, \"subunitcolor\": \"white\"}, \"hoverlabel\": {\"align\": \"left\"}, \"hovermode\": \"closest\", \"mapbox\": {\"style\": \"light\"}, \"paper_bgcolor\": \"white\", \"plot_bgcolor\": \"#E5ECF6\", \"polar\": {\"angularaxis\": {\"gridcolor\": \"white\", \"linecolor\": \"white\", \"ticks\": \"\"}, \"bgcolor\": \"#E5ECF6\", \"radialaxis\": {\"gridcolor\": \"white\", \"linecolor\": \"white\", \"ticks\": \"\"}}, \"scene\": {\"xaxis\": {\"backgroundcolor\": \"#E5ECF6\", \"gridcolor\": \"white\", \"gridwidth\": 2, \"linecolor\": \"white\", \"showbackground\": true, \"ticks\": \"\", \"zerolinecolor\": \"white\"}, \"yaxis\": {\"backgroundcolor\": \"#E5ECF6\", \"gridcolor\": \"white\", \"gridwidth\": 2, \"linecolor\": \"white\", \"showbackground\": true, \"ticks\": \"\", \"zerolinecolor\": \"white\"}, \"zaxis\": {\"backgroundcolor\": \"#E5ECF6\", \"gridcolor\": \"white\", \"gridwidth\": 2, \"linecolor\": \"white\", \"showbackground\": true, \"ticks\": \"\", \"zerolinecolor\": \"white\"}}, \"shapedefaults\": {\"line\": {\"color\": \"#2a3f5f\"}}, \"ternary\": {\"aaxis\": {\"gridcolor\": \"white\", \"linecolor\": \"white\", \"ticks\": \"\"}, \"baxis\": {\"gridcolor\": \"white\", \"linecolor\": \"white\", \"ticks\": \"\"}, \"bgcolor\": \"#E5ECF6\", \"caxis\": {\"gridcolor\": \"white\", \"linecolor\": \"white\", \"ticks\": \"\"}}, \"title\": {\"x\": 0.05}, \"xaxis\": {\"automargin\": true, \"gridcolor\": \"white\", \"linecolor\": \"white\", \"ticks\": \"\", \"title\": {\"standoff\": 15}, \"zerolinecolor\": \"white\", \"zerolinewidth\": 2}, \"yaxis\": {\"automargin\": true, \"gridcolor\": \"white\", \"linecolor\": \"white\", \"ticks\": \"\", \"title\": {\"standoff\": 15}, \"zerolinecolor\": \"white\", \"zerolinewidth\": 2}}}},\n",
       "                        {\"responsive\": true}\n",
       "                    ).then(function(){\n",
       "                            \n",
       "var gd = document.getElementById('92745374-158c-43f6-a84e-3e623a1bc209');\n",
       "var x = new MutationObserver(function (mutations, observer) {{\n",
       "        var display = window.getComputedStyle(gd).display;\n",
       "        if (!display || display === 'none') {{\n",
       "            console.log([gd, 'removed!']);\n",
       "            Plotly.purge(gd);\n",
       "            observer.disconnect();\n",
       "        }}\n",
       "}});\n",
       "\n",
       "// Listen for the removal of the full notebook cells\n",
       "var notebookContainer = gd.closest('#notebook-container');\n",
       "if (notebookContainer) {{\n",
       "    x.observe(notebookContainer, {childList: true});\n",
       "}}\n",
       "\n",
       "// Listen for the clearing of the current output cell\n",
       "var outputEl = gd.closest('.output');\n",
       "if (outputEl) {{\n",
       "    x.observe(outputEl, {childList: true});\n",
       "}}\n",
       "\n",
       "                        })\n",
       "                };\n",
       "                });\n",
       "            </script>\n",
       "        </div>"
      ]
     },
     "metadata": {},
     "output_type": "display_data"
    }
   ],
   "source": [
    "#Graph3 : Line Plot\n",
    "import plotly.graph_objects as go\n",
    "fig = go.Figure()\n",
    "fig.add_trace(go.Scatter(x=year, y=homicide, name='homicide',line=dict(color='firebrick', width=4)))\n",
    "#fig.add_trace(go.Scatter(x=year, y=arson, name='arson',line=dict(color='royalblue', width=4)))\n",
    "#fig.add_trace(go.Scatter(x=year, y=rape_legacy, name='rape_legacy',line=dict(color='green', width=4, dash='dot')))\n",
    "fig.show()"
   ]
  },
  {
   "cell_type": "code",
   "execution_count": 25,
   "metadata": {},
   "outputs": [
    {
     "data": {
      "application/vnd.plotly.v1+json": {
       "config": {
        "plotlyServerURL": "https://plot.ly"
       },
       "data": [
        {
         "alignmentgroup": "True",
         "hovertemplate": "offense=aggravated-assault<br>data_year=%{x}<br>actual=%{y}<extra></extra>",
         "legendgroup": "aggravated-assault",
         "marker": {
          "color": "#636efa"
         },
         "name": "aggravated-assault",
         "offsetgroup": "aggravated-assault",
         "orientation": "v",
         "showlegend": true,
         "textposition": "auto",
         "type": "bar",
         "x": [
          2006,
          2007,
          2008,
          2009,
          2010,
          2011,
          2012,
          2013,
          2014,
          2015,
          2016
         ],
         "xaxis": "x",
         "y": [
          276,
          266,
          286,
          330,
          347,
          363,
          301,
          394,
          273,
          244,
          274
         ],
         "yaxis": "y"
        },
        {
         "alignmentgroup": "True",
         "hovertemplate": "offense=violent-crime<br>data_year=%{x}<br>actual=%{y}<extra></extra>",
         "legendgroup": "violent-crime",
         "marker": {
          "color": "#EF553B"
         },
         "name": "violent-crime",
         "offsetgroup": "violent-crime",
         "orientation": "v",
         "showlegend": true,
         "textposition": "auto",
         "type": "bar",
         "x": [
          2006,
          2007,
          2008,
          2009,
          2010,
          2011,
          2012,
          2013,
          2014,
          2015,
          2016
         ],
         "xaxis": "x",
         "y": [
          432,
          450,
          441,
          468,
          514,
          490,
          421,
          547,
          457,
          401,
          467
         ],
         "yaxis": "y"
        },
        {
         "alignmentgroup": "True",
         "hovertemplate": "offense=robbery<br>data_year=%{x}<br>actual=%{y}<extra></extra>",
         "legendgroup": "robbery",
         "marker": {
          "color": "#00cc96"
         },
         "name": "robbery",
         "offsetgroup": "robbery",
         "orientation": "v",
         "showlegend": true,
         "textposition": "auto",
         "type": "bar",
         "x": [
          2006,
          2007,
          2008,
          2009,
          2010,
          2011,
          2012,
          2013,
          2014,
          2015,
          2016
         ],
         "xaxis": "x",
         "y": [
          88,
          102,
          73,
          67,
          79,
          62,
          74,
          89,
          78,
          54,
          69
         ],
         "yaxis": "y"
        },
        {
         "alignmentgroup": "True",
         "hovertemplate": "offense=rape-legacy<br>data_year=%{x}<br>actual=%{y}<extra></extra>",
         "legendgroup": "rape-legacy",
         "marker": {
          "color": "#ab63fa"
         },
         "name": "rape-legacy",
         "offsetgroup": "rape-legacy",
         "orientation": "v",
         "showlegend": true,
         "textposition": "auto",
         "type": "bar",
         "x": [
          2006,
          2007,
          2008,
          2009,
          2010,
          2011,
          2012,
          2013,
          2014,
          2015,
          2016
         ],
         "xaxis": "x",
         "y": [
          65,
          77,
          78,
          66,
          85,
          63,
          41,
          55,
          0,
          0,
          0
         ],
         "yaxis": "y"
        },
        {
         "alignmentgroup": "True",
         "hovertemplate": "offense=rape<br>data_year=%{x}<br>actual=%{y}<extra></extra>",
         "legendgroup": "rape",
         "marker": {
          "color": "#FFA15A"
         },
         "name": "rape",
         "offsetgroup": "rape",
         "orientation": "v",
         "showlegend": true,
         "textposition": "auto",
         "type": "bar",
         "x": [
          2006,
          2007,
          2008,
          2009,
          2010,
          2011,
          2012,
          2013,
          2014,
          2015,
          2016
         ],
         "xaxis": "x",
         "y": [
          0,
          0,
          0,
          0,
          0,
          0,
          0,
          0,
          103,
          95,
          115
         ],
         "yaxis": "y"
        },
        {
         "alignmentgroup": "True",
         "hovertemplate": "offense=property-crime<br>data_year=%{x}<br>actual=%{y}<extra></extra>",
         "legendgroup": "property-crime",
         "marker": {
          "color": "#19d3f3"
         },
         "name": "property-crime",
         "offsetgroup": "property-crime",
         "orientation": "v",
         "showlegend": true,
         "textposition": "auto",
         "type": "bar",
         "x": [
          2006,
          2007,
          2008,
          2009,
          2010,
          2011,
          2012,
          2013,
          2014,
          2015,
          2016
         ],
         "xaxis": "x",
         "y": [
          6327,
          5919,
          5494,
          5743,
          5255,
          4710,
          5378,
          5286,
          6725,
          6695,
          4928
         ],
         "yaxis": "y"
        },
        {
         "alignmentgroup": "True",
         "hovertemplate": "offense=motor-vehicle-theft<br>data_year=%{x}<br>actual=%{y}<extra></extra>",
         "legendgroup": "motor-vehicle-theft",
         "marker": {
          "color": "#FF6692"
         },
         "name": "motor-vehicle-theft",
         "offsetgroup": "motor-vehicle-theft",
         "orientation": "v",
         "showlegend": true,
         "textposition": "auto",
         "type": "bar",
         "x": [
          2006,
          2007,
          2008,
          2009,
          2010,
          2011,
          2012,
          2013,
          2014,
          2015,
          2016
         ],
         "xaxis": "x",
         "y": [
          608,
          542,
          490,
          473,
          487,
          404,
          443,
          421,
          732,
          909,
          525
         ],
         "yaxis": "y"
        },
        {
         "alignmentgroup": "True",
         "hovertemplate": "offense=larceny<br>data_year=%{x}<br>actual=%{y}<extra></extra>",
         "legendgroup": "larceny",
         "marker": {
          "color": "#B6E880"
         },
         "name": "larceny",
         "offsetgroup": "larceny",
         "orientation": "v",
         "showlegend": true,
         "textposition": "auto",
         "type": "bar",
         "x": [
          2006,
          2007,
          2008,
          2009,
          2010,
          2011,
          2012,
          2013,
          2014,
          2015,
          2016
         ],
         "xaxis": "x",
         "y": [
          4293,
          3996,
          3796,
          3855,
          3627,
          3360,
          3751,
          3727,
          4795,
          4725,
          3580
         ],
         "yaxis": "y"
        },
        {
         "alignmentgroup": "True",
         "hovertemplate": "offense=human-trafficing<br>data_year=%{x}<br>actual=%{y}<extra></extra>",
         "legendgroup": "human-trafficing",
         "marker": {
          "color": "#FF97FF"
         },
         "name": "human-trafficing",
         "offsetgroup": "human-trafficing",
         "orientation": "v",
         "showlegend": true,
         "textposition": "auto",
         "type": "bar",
         "x": [
          2006,
          2007,
          2008,
          2009,
          2010,
          2011,
          2012,
          2013,
          2014,
          2015,
          2016
         ],
         "xaxis": "x",
         "y": [
          0,
          0,
          0,
          0,
          0,
          0,
          0,
          0,
          0,
          0,
          0
         ],
         "yaxis": "y"
        },
        {
         "alignmentgroup": "True",
         "hovertemplate": "offense=homicide<br>data_year=%{x}<br>actual=%{y}<extra></extra>",
         "legendgroup": "homicide",
         "marker": {
          "color": "#FECB52"
         },
         "name": "homicide",
         "offsetgroup": "homicide",
         "orientation": "v",
         "showlegend": true,
         "textposition": "auto",
         "type": "bar",
         "x": [
          2006,
          2007,
          2008,
          2009,
          2010,
          2011,
          2012,
          2013,
          2014,
          2015,
          2016
         ],
         "xaxis": "x",
         "y": [
          3,
          5,
          4,
          5,
          3,
          2,
          5,
          9,
          3,
          8,
          9
         ],
         "yaxis": "y"
        },
        {
         "alignmentgroup": "True",
         "hovertemplate": "offense=burglary<br>data_year=%{x}<br>actual=%{y}<extra></extra>",
         "legendgroup": "burglary",
         "marker": {
          "color": "#636efa"
         },
         "name": "burglary",
         "offsetgroup": "burglary",
         "orientation": "v",
         "showlegend": true,
         "textposition": "auto",
         "type": "bar",
         "x": [
          2006,
          2007,
          2008,
          2009,
          2010,
          2011,
          2012,
          2013,
          2014,
          2015,
          2016
         ],
         "xaxis": "x",
         "y": [
          1426,
          1381,
          1208,
          1415,
          1141,
          946,
          1184,
          1138,
          1198,
          1061,
          823
         ],
         "yaxis": "y"
        },
        {
         "alignmentgroup": "True",
         "hovertemplate": "offense=arson<br>data_year=%{x}<br>actual=%{y}<extra></extra>",
         "legendgroup": "arson",
         "marker": {
          "color": "#EF553B"
         },
         "name": "arson",
         "offsetgroup": "arson",
         "orientation": "v",
         "showlegend": true,
         "textposition": "auto",
         "type": "bar",
         "x": [
          2006,
          2007,
          2008,
          2009,
          2010,
          2011,
          2012,
          2013,
          2014,
          2015,
          2016
         ],
         "xaxis": "x",
         "y": [
          50,
          79,
          67,
          28,
          21,
          39,
          19,
          32,
          18,
          31,
          41
         ],
         "yaxis": "y"
        }
       ],
       "layout": {
        "barmode": "relative",
        "legend": {
         "title": {
          "text": "offense"
         },
         "tracegroupgap": 0
        },
        "template": {
         "data": {
          "bar": [
           {
            "error_x": {
             "color": "#2a3f5f"
            },
            "error_y": {
             "color": "#2a3f5f"
            },
            "marker": {
             "line": {
              "color": "#E5ECF6",
              "width": 0.5
             }
            },
            "type": "bar"
           }
          ],
          "barpolar": [
           {
            "marker": {
             "line": {
              "color": "#E5ECF6",
              "width": 0.5
             }
            },
            "type": "barpolar"
           }
          ],
          "carpet": [
           {
            "aaxis": {
             "endlinecolor": "#2a3f5f",
             "gridcolor": "white",
             "linecolor": "white",
             "minorgridcolor": "white",
             "startlinecolor": "#2a3f5f"
            },
            "baxis": {
             "endlinecolor": "#2a3f5f",
             "gridcolor": "white",
             "linecolor": "white",
             "minorgridcolor": "white",
             "startlinecolor": "#2a3f5f"
            },
            "type": "carpet"
           }
          ],
          "choropleth": [
           {
            "colorbar": {
             "outlinewidth": 0,
             "ticks": ""
            },
            "type": "choropleth"
           }
          ],
          "contour": [
           {
            "colorbar": {
             "outlinewidth": 0,
             "ticks": ""
            },
            "colorscale": [
             [
              0,
              "#0d0887"
             ],
             [
              0.1111111111111111,
              "#46039f"
             ],
             [
              0.2222222222222222,
              "#7201a8"
             ],
             [
              0.3333333333333333,
              "#9c179e"
             ],
             [
              0.4444444444444444,
              "#bd3786"
             ],
             [
              0.5555555555555556,
              "#d8576b"
             ],
             [
              0.6666666666666666,
              "#ed7953"
             ],
             [
              0.7777777777777778,
              "#fb9f3a"
             ],
             [
              0.8888888888888888,
              "#fdca26"
             ],
             [
              1,
              "#f0f921"
             ]
            ],
            "type": "contour"
           }
          ],
          "contourcarpet": [
           {
            "colorbar": {
             "outlinewidth": 0,
             "ticks": ""
            },
            "type": "contourcarpet"
           }
          ],
          "heatmap": [
           {
            "colorbar": {
             "outlinewidth": 0,
             "ticks": ""
            },
            "colorscale": [
             [
              0,
              "#0d0887"
             ],
             [
              0.1111111111111111,
              "#46039f"
             ],
             [
              0.2222222222222222,
              "#7201a8"
             ],
             [
              0.3333333333333333,
              "#9c179e"
             ],
             [
              0.4444444444444444,
              "#bd3786"
             ],
             [
              0.5555555555555556,
              "#d8576b"
             ],
             [
              0.6666666666666666,
              "#ed7953"
             ],
             [
              0.7777777777777778,
              "#fb9f3a"
             ],
             [
              0.8888888888888888,
              "#fdca26"
             ],
             [
              1,
              "#f0f921"
             ]
            ],
            "type": "heatmap"
           }
          ],
          "heatmapgl": [
           {
            "colorbar": {
             "outlinewidth": 0,
             "ticks": ""
            },
            "colorscale": [
             [
              0,
              "#0d0887"
             ],
             [
              0.1111111111111111,
              "#46039f"
             ],
             [
              0.2222222222222222,
              "#7201a8"
             ],
             [
              0.3333333333333333,
              "#9c179e"
             ],
             [
              0.4444444444444444,
              "#bd3786"
             ],
             [
              0.5555555555555556,
              "#d8576b"
             ],
             [
              0.6666666666666666,
              "#ed7953"
             ],
             [
              0.7777777777777778,
              "#fb9f3a"
             ],
             [
              0.8888888888888888,
              "#fdca26"
             ],
             [
              1,
              "#f0f921"
             ]
            ],
            "type": "heatmapgl"
           }
          ],
          "histogram": [
           {
            "marker": {
             "colorbar": {
              "outlinewidth": 0,
              "ticks": ""
             }
            },
            "type": "histogram"
           }
          ],
          "histogram2d": [
           {
            "colorbar": {
             "outlinewidth": 0,
             "ticks": ""
            },
            "colorscale": [
             [
              0,
              "#0d0887"
             ],
             [
              0.1111111111111111,
              "#46039f"
             ],
             [
              0.2222222222222222,
              "#7201a8"
             ],
             [
              0.3333333333333333,
              "#9c179e"
             ],
             [
              0.4444444444444444,
              "#bd3786"
             ],
             [
              0.5555555555555556,
              "#d8576b"
             ],
             [
              0.6666666666666666,
              "#ed7953"
             ],
             [
              0.7777777777777778,
              "#fb9f3a"
             ],
             [
              0.8888888888888888,
              "#fdca26"
             ],
             [
              1,
              "#f0f921"
             ]
            ],
            "type": "histogram2d"
           }
          ],
          "histogram2dcontour": [
           {
            "colorbar": {
             "outlinewidth": 0,
             "ticks": ""
            },
            "colorscale": [
             [
              0,
              "#0d0887"
             ],
             [
              0.1111111111111111,
              "#46039f"
             ],
             [
              0.2222222222222222,
              "#7201a8"
             ],
             [
              0.3333333333333333,
              "#9c179e"
             ],
             [
              0.4444444444444444,
              "#bd3786"
             ],
             [
              0.5555555555555556,
              "#d8576b"
             ],
             [
              0.6666666666666666,
              "#ed7953"
             ],
             [
              0.7777777777777778,
              "#fb9f3a"
             ],
             [
              0.8888888888888888,
              "#fdca26"
             ],
             [
              1,
              "#f0f921"
             ]
            ],
            "type": "histogram2dcontour"
           }
          ],
          "mesh3d": [
           {
            "colorbar": {
             "outlinewidth": 0,
             "ticks": ""
            },
            "type": "mesh3d"
           }
          ],
          "parcoords": [
           {
            "line": {
             "colorbar": {
              "outlinewidth": 0,
              "ticks": ""
             }
            },
            "type": "parcoords"
           }
          ],
          "pie": [
           {
            "automargin": true,
            "type": "pie"
           }
          ],
          "scatter": [
           {
            "marker": {
             "colorbar": {
              "outlinewidth": 0,
              "ticks": ""
             }
            },
            "type": "scatter"
           }
          ],
          "scatter3d": [
           {
            "line": {
             "colorbar": {
              "outlinewidth": 0,
              "ticks": ""
             }
            },
            "marker": {
             "colorbar": {
              "outlinewidth": 0,
              "ticks": ""
             }
            },
            "type": "scatter3d"
           }
          ],
          "scattercarpet": [
           {
            "marker": {
             "colorbar": {
              "outlinewidth": 0,
              "ticks": ""
             }
            },
            "type": "scattercarpet"
           }
          ],
          "scattergeo": [
           {
            "marker": {
             "colorbar": {
              "outlinewidth": 0,
              "ticks": ""
             }
            },
            "type": "scattergeo"
           }
          ],
          "scattergl": [
           {
            "marker": {
             "colorbar": {
              "outlinewidth": 0,
              "ticks": ""
             }
            },
            "type": "scattergl"
           }
          ],
          "scattermapbox": [
           {
            "marker": {
             "colorbar": {
              "outlinewidth": 0,
              "ticks": ""
             }
            },
            "type": "scattermapbox"
           }
          ],
          "scatterpolar": [
           {
            "marker": {
             "colorbar": {
              "outlinewidth": 0,
              "ticks": ""
             }
            },
            "type": "scatterpolar"
           }
          ],
          "scatterpolargl": [
           {
            "marker": {
             "colorbar": {
              "outlinewidth": 0,
              "ticks": ""
             }
            },
            "type": "scatterpolargl"
           }
          ],
          "scatterternary": [
           {
            "marker": {
             "colorbar": {
              "outlinewidth": 0,
              "ticks": ""
             }
            },
            "type": "scatterternary"
           }
          ],
          "surface": [
           {
            "colorbar": {
             "outlinewidth": 0,
             "ticks": ""
            },
            "colorscale": [
             [
              0,
              "#0d0887"
             ],
             [
              0.1111111111111111,
              "#46039f"
             ],
             [
              0.2222222222222222,
              "#7201a8"
             ],
             [
              0.3333333333333333,
              "#9c179e"
             ],
             [
              0.4444444444444444,
              "#bd3786"
             ],
             [
              0.5555555555555556,
              "#d8576b"
             ],
             [
              0.6666666666666666,
              "#ed7953"
             ],
             [
              0.7777777777777778,
              "#fb9f3a"
             ],
             [
              0.8888888888888888,
              "#fdca26"
             ],
             [
              1,
              "#f0f921"
             ]
            ],
            "type": "surface"
           }
          ],
          "table": [
           {
            "cells": {
             "fill": {
              "color": "#EBF0F8"
             },
             "line": {
              "color": "white"
             }
            },
            "header": {
             "fill": {
              "color": "#C8D4E3"
             },
             "line": {
              "color": "white"
             }
            },
            "type": "table"
           }
          ]
         },
         "layout": {
          "annotationdefaults": {
           "arrowcolor": "#2a3f5f",
           "arrowhead": 0,
           "arrowwidth": 1
          },
          "coloraxis": {
           "colorbar": {
            "outlinewidth": 0,
            "ticks": ""
           }
          },
          "colorscale": {
           "diverging": [
            [
             0,
             "#8e0152"
            ],
            [
             0.1,
             "#c51b7d"
            ],
            [
             0.2,
             "#de77ae"
            ],
            [
             0.3,
             "#f1b6da"
            ],
            [
             0.4,
             "#fde0ef"
            ],
            [
             0.5,
             "#f7f7f7"
            ],
            [
             0.6,
             "#e6f5d0"
            ],
            [
             0.7,
             "#b8e186"
            ],
            [
             0.8,
             "#7fbc41"
            ],
            [
             0.9,
             "#4d9221"
            ],
            [
             1,
             "#276419"
            ]
           ],
           "sequential": [
            [
             0,
             "#0d0887"
            ],
            [
             0.1111111111111111,
             "#46039f"
            ],
            [
             0.2222222222222222,
             "#7201a8"
            ],
            [
             0.3333333333333333,
             "#9c179e"
            ],
            [
             0.4444444444444444,
             "#bd3786"
            ],
            [
             0.5555555555555556,
             "#d8576b"
            ],
            [
             0.6666666666666666,
             "#ed7953"
            ],
            [
             0.7777777777777778,
             "#fb9f3a"
            ],
            [
             0.8888888888888888,
             "#fdca26"
            ],
            [
             1,
             "#f0f921"
            ]
           ],
           "sequentialminus": [
            [
             0,
             "#0d0887"
            ],
            [
             0.1111111111111111,
             "#46039f"
            ],
            [
             0.2222222222222222,
             "#7201a8"
            ],
            [
             0.3333333333333333,
             "#9c179e"
            ],
            [
             0.4444444444444444,
             "#bd3786"
            ],
            [
             0.5555555555555556,
             "#d8576b"
            ],
            [
             0.6666666666666666,
             "#ed7953"
            ],
            [
             0.7777777777777778,
             "#fb9f3a"
            ],
            [
             0.8888888888888888,
             "#fdca26"
            ],
            [
             1,
             "#f0f921"
            ]
           ]
          },
          "colorway": [
           "#636efa",
           "#EF553B",
           "#00cc96",
           "#ab63fa",
           "#FFA15A",
           "#19d3f3",
           "#FF6692",
           "#B6E880",
           "#FF97FF",
           "#FECB52"
          ],
          "font": {
           "color": "#2a3f5f"
          },
          "geo": {
           "bgcolor": "white",
           "lakecolor": "white",
           "landcolor": "#E5ECF6",
           "showlakes": true,
           "showland": true,
           "subunitcolor": "white"
          },
          "hoverlabel": {
           "align": "left"
          },
          "hovermode": "closest",
          "mapbox": {
           "style": "light"
          },
          "paper_bgcolor": "white",
          "plot_bgcolor": "#E5ECF6",
          "polar": {
           "angularaxis": {
            "gridcolor": "white",
            "linecolor": "white",
            "ticks": ""
           },
           "bgcolor": "#E5ECF6",
           "radialaxis": {
            "gridcolor": "white",
            "linecolor": "white",
            "ticks": ""
           }
          },
          "scene": {
           "xaxis": {
            "backgroundcolor": "#E5ECF6",
            "gridcolor": "white",
            "gridwidth": 2,
            "linecolor": "white",
            "showbackground": true,
            "ticks": "",
            "zerolinecolor": "white"
           },
           "yaxis": {
            "backgroundcolor": "#E5ECF6",
            "gridcolor": "white",
            "gridwidth": 2,
            "linecolor": "white",
            "showbackground": true,
            "ticks": "",
            "zerolinecolor": "white"
           },
           "zaxis": {
            "backgroundcolor": "#E5ECF6",
            "gridcolor": "white",
            "gridwidth": 2,
            "linecolor": "white",
            "showbackground": true,
            "ticks": "",
            "zerolinecolor": "white"
           }
          },
          "shapedefaults": {
           "line": {
            "color": "#2a3f5f"
           }
          },
          "ternary": {
           "aaxis": {
            "gridcolor": "white",
            "linecolor": "white",
            "ticks": ""
           },
           "baxis": {
            "gridcolor": "white",
            "linecolor": "white",
            "ticks": ""
           },
           "bgcolor": "#E5ECF6",
           "caxis": {
            "gridcolor": "white",
            "linecolor": "white",
            "ticks": ""
           }
          },
          "title": {
           "x": 0.05
          },
          "xaxis": {
           "automargin": true,
           "gridcolor": "white",
           "linecolor": "white",
           "ticks": "",
           "title": {
            "standoff": 15
           },
           "zerolinecolor": "white",
           "zerolinewidth": 2
          },
          "yaxis": {
           "automargin": true,
           "gridcolor": "white",
           "linecolor": "white",
           "ticks": "",
           "title": {
            "standoff": 15
           },
           "zerolinecolor": "white",
           "zerolinewidth": 2
          }
         }
        },
        "title": {
         "text": "Offense"
        },
        "xaxis": {
         "anchor": "y",
         "domain": [
          0,
          1
         ],
         "title": {
          "text": "data_year"
         }
        },
        "yaxis": {
         "anchor": "x",
         "domain": [
          0,
          1
         ],
         "title": {
          "text": "actual"
         }
        }
       }
      },
      "text/html": [
       "<div>\n",
       "        \n",
       "        \n",
       "            <div id=\"69009593-ebd8-42f1-a247-50146bde03ec\" class=\"plotly-graph-div\" style=\"height:525px; width:100%;\"></div>\n",
       "            <script type=\"text/javascript\">\n",
       "                require([\"plotly\"], function(Plotly) {\n",
       "                    window.PLOTLYENV=window.PLOTLYENV || {};\n",
       "                    \n",
       "                if (document.getElementById(\"69009593-ebd8-42f1-a247-50146bde03ec\")) {\n",
       "                    Plotly.newPlot(\n",
       "                        '69009593-ebd8-42f1-a247-50146bde03ec',\n",
       "                        [{\"alignmentgroup\": \"True\", \"hovertemplate\": \"offense=aggravated-assault<br>data_year=%{x}<br>actual=%{y}<extra></extra>\", \"legendgroup\": \"aggravated-assault\", \"marker\": {\"color\": \"#636efa\"}, \"name\": \"aggravated-assault\", \"offsetgroup\": \"aggravated-assault\", \"orientation\": \"v\", \"showlegend\": true, \"textposition\": \"auto\", \"type\": \"bar\", \"x\": [2006, 2007, 2008, 2009, 2010, 2011, 2012, 2013, 2014, 2015, 2016], \"xaxis\": \"x\", \"y\": [276, 266, 286, 330, 347, 363, 301, 394, 273, 244, 274], \"yaxis\": \"y\"}, {\"alignmentgroup\": \"True\", \"hovertemplate\": \"offense=violent-crime<br>data_year=%{x}<br>actual=%{y}<extra></extra>\", \"legendgroup\": \"violent-crime\", \"marker\": {\"color\": \"#EF553B\"}, \"name\": \"violent-crime\", \"offsetgroup\": \"violent-crime\", \"orientation\": \"v\", \"showlegend\": true, \"textposition\": \"auto\", \"type\": \"bar\", \"x\": [2006, 2007, 2008, 2009, 2010, 2011, 2012, 2013, 2014, 2015, 2016], \"xaxis\": \"x\", \"y\": [432, 450, 441, 468, 514, 490, 421, 547, 457, 401, 467], \"yaxis\": \"y\"}, {\"alignmentgroup\": \"True\", \"hovertemplate\": \"offense=robbery<br>data_year=%{x}<br>actual=%{y}<extra></extra>\", \"legendgroup\": \"robbery\", \"marker\": {\"color\": \"#00cc96\"}, \"name\": \"robbery\", \"offsetgroup\": \"robbery\", \"orientation\": \"v\", \"showlegend\": true, \"textposition\": \"auto\", \"type\": \"bar\", \"x\": [2006, 2007, 2008, 2009, 2010, 2011, 2012, 2013, 2014, 2015, 2016], \"xaxis\": \"x\", \"y\": [88, 102, 73, 67, 79, 62, 74, 89, 78, 54, 69], \"yaxis\": \"y\"}, {\"alignmentgroup\": \"True\", \"hovertemplate\": \"offense=rape-legacy<br>data_year=%{x}<br>actual=%{y}<extra></extra>\", \"legendgroup\": \"rape-legacy\", \"marker\": {\"color\": \"#ab63fa\"}, \"name\": \"rape-legacy\", \"offsetgroup\": \"rape-legacy\", \"orientation\": \"v\", \"showlegend\": true, \"textposition\": \"auto\", \"type\": \"bar\", \"x\": [2006, 2007, 2008, 2009, 2010, 2011, 2012, 2013, 2014, 2015, 2016], \"xaxis\": \"x\", \"y\": [65, 77, 78, 66, 85, 63, 41, 55, 0, 0, 0], \"yaxis\": \"y\"}, {\"alignmentgroup\": \"True\", \"hovertemplate\": \"offense=rape<br>data_year=%{x}<br>actual=%{y}<extra></extra>\", \"legendgroup\": \"rape\", \"marker\": {\"color\": \"#FFA15A\"}, \"name\": \"rape\", \"offsetgroup\": \"rape\", \"orientation\": \"v\", \"showlegend\": true, \"textposition\": \"auto\", \"type\": \"bar\", \"x\": [2006, 2007, 2008, 2009, 2010, 2011, 2012, 2013, 2014, 2015, 2016], \"xaxis\": \"x\", \"y\": [0, 0, 0, 0, 0, 0, 0, 0, 103, 95, 115], \"yaxis\": \"y\"}, {\"alignmentgroup\": \"True\", \"hovertemplate\": \"offense=property-crime<br>data_year=%{x}<br>actual=%{y}<extra></extra>\", \"legendgroup\": \"property-crime\", \"marker\": {\"color\": \"#19d3f3\"}, \"name\": \"property-crime\", \"offsetgroup\": \"property-crime\", \"orientation\": \"v\", \"showlegend\": true, \"textposition\": \"auto\", \"type\": \"bar\", \"x\": [2006, 2007, 2008, 2009, 2010, 2011, 2012, 2013, 2014, 2015, 2016], \"xaxis\": \"x\", \"y\": [6327, 5919, 5494, 5743, 5255, 4710, 5378, 5286, 6725, 6695, 4928], \"yaxis\": \"y\"}, {\"alignmentgroup\": \"True\", \"hovertemplate\": \"offense=motor-vehicle-theft<br>data_year=%{x}<br>actual=%{y}<extra></extra>\", \"legendgroup\": \"motor-vehicle-theft\", \"marker\": {\"color\": \"#FF6692\"}, \"name\": \"motor-vehicle-theft\", \"offsetgroup\": \"motor-vehicle-theft\", \"orientation\": \"v\", \"showlegend\": true, \"textposition\": \"auto\", \"type\": \"bar\", \"x\": [2006, 2007, 2008, 2009, 2010, 2011, 2012, 2013, 2014, 2015, 2016], \"xaxis\": \"x\", \"y\": [608, 542, 490, 473, 487, 404, 443, 421, 732, 909, 525], \"yaxis\": \"y\"}, {\"alignmentgroup\": \"True\", \"hovertemplate\": \"offense=larceny<br>data_year=%{x}<br>actual=%{y}<extra></extra>\", \"legendgroup\": \"larceny\", \"marker\": {\"color\": \"#B6E880\"}, \"name\": \"larceny\", \"offsetgroup\": \"larceny\", \"orientation\": \"v\", \"showlegend\": true, \"textposition\": \"auto\", \"type\": \"bar\", \"x\": [2006, 2007, 2008, 2009, 2010, 2011, 2012, 2013, 2014, 2015, 2016], \"xaxis\": \"x\", \"y\": [4293, 3996, 3796, 3855, 3627, 3360, 3751, 3727, 4795, 4725, 3580], \"yaxis\": \"y\"}, {\"alignmentgroup\": \"True\", \"hovertemplate\": \"offense=human-trafficing<br>data_year=%{x}<br>actual=%{y}<extra></extra>\", \"legendgroup\": \"human-trafficing\", \"marker\": {\"color\": \"#FF97FF\"}, \"name\": \"human-trafficing\", \"offsetgroup\": \"human-trafficing\", \"orientation\": \"v\", \"showlegend\": true, \"textposition\": \"auto\", \"type\": \"bar\", \"x\": [2006, 2007, 2008, 2009, 2010, 2011, 2012, 2013, 2014, 2015, 2016], \"xaxis\": \"x\", \"y\": [0, 0, 0, 0, 0, 0, 0, 0, 0, 0, 0], \"yaxis\": \"y\"}, {\"alignmentgroup\": \"True\", \"hovertemplate\": \"offense=homicide<br>data_year=%{x}<br>actual=%{y}<extra></extra>\", \"legendgroup\": \"homicide\", \"marker\": {\"color\": \"#FECB52\"}, \"name\": \"homicide\", \"offsetgroup\": \"homicide\", \"orientation\": \"v\", \"showlegend\": true, \"textposition\": \"auto\", \"type\": \"bar\", \"x\": [2006, 2007, 2008, 2009, 2010, 2011, 2012, 2013, 2014, 2015, 2016], \"xaxis\": \"x\", \"y\": [3, 5, 4, 5, 3, 2, 5, 9, 3, 8, 9], \"yaxis\": \"y\"}, {\"alignmentgroup\": \"True\", \"hovertemplate\": \"offense=burglary<br>data_year=%{x}<br>actual=%{y}<extra></extra>\", \"legendgroup\": \"burglary\", \"marker\": {\"color\": \"#636efa\"}, \"name\": \"burglary\", \"offsetgroup\": \"burglary\", \"orientation\": \"v\", \"showlegend\": true, \"textposition\": \"auto\", \"type\": \"bar\", \"x\": [2006, 2007, 2008, 2009, 2010, 2011, 2012, 2013, 2014, 2015, 2016], \"xaxis\": \"x\", \"y\": [1426, 1381, 1208, 1415, 1141, 946, 1184, 1138, 1198, 1061, 823], \"yaxis\": \"y\"}, {\"alignmentgroup\": \"True\", \"hovertemplate\": \"offense=arson<br>data_year=%{x}<br>actual=%{y}<extra></extra>\", \"legendgroup\": \"arson\", \"marker\": {\"color\": \"#EF553B\"}, \"name\": \"arson\", \"offsetgroup\": \"arson\", \"orientation\": \"v\", \"showlegend\": true, \"textposition\": \"auto\", \"type\": \"bar\", \"x\": [2006, 2007, 2008, 2009, 2010, 2011, 2012, 2013, 2014, 2015, 2016], \"xaxis\": \"x\", \"y\": [50, 79, 67, 28, 21, 39, 19, 32, 18, 31, 41], \"yaxis\": \"y\"}],\n",
       "                        {\"barmode\": \"relative\", \"legend\": {\"title\": {\"text\": \"offense\"}, \"tracegroupgap\": 0}, \"template\": {\"data\": {\"bar\": [{\"error_x\": {\"color\": \"#2a3f5f\"}, \"error_y\": {\"color\": \"#2a3f5f\"}, \"marker\": {\"line\": {\"color\": \"#E5ECF6\", \"width\": 0.5}}, \"type\": \"bar\"}], \"barpolar\": [{\"marker\": {\"line\": {\"color\": \"#E5ECF6\", \"width\": 0.5}}, \"type\": \"barpolar\"}], \"carpet\": [{\"aaxis\": {\"endlinecolor\": \"#2a3f5f\", \"gridcolor\": \"white\", \"linecolor\": \"white\", \"minorgridcolor\": \"white\", \"startlinecolor\": \"#2a3f5f\"}, \"baxis\": {\"endlinecolor\": \"#2a3f5f\", \"gridcolor\": \"white\", \"linecolor\": \"white\", \"minorgridcolor\": \"white\", \"startlinecolor\": \"#2a3f5f\"}, \"type\": \"carpet\"}], \"choropleth\": [{\"colorbar\": {\"outlinewidth\": 0, \"ticks\": \"\"}, \"type\": \"choropleth\"}], \"contour\": [{\"colorbar\": {\"outlinewidth\": 0, \"ticks\": \"\"}, \"colorscale\": [[0.0, \"#0d0887\"], [0.1111111111111111, \"#46039f\"], [0.2222222222222222, \"#7201a8\"], [0.3333333333333333, \"#9c179e\"], [0.4444444444444444, \"#bd3786\"], [0.5555555555555556, \"#d8576b\"], [0.6666666666666666, \"#ed7953\"], [0.7777777777777778, \"#fb9f3a\"], [0.8888888888888888, \"#fdca26\"], [1.0, \"#f0f921\"]], \"type\": \"contour\"}], \"contourcarpet\": [{\"colorbar\": {\"outlinewidth\": 0, \"ticks\": \"\"}, \"type\": \"contourcarpet\"}], \"heatmap\": [{\"colorbar\": {\"outlinewidth\": 0, \"ticks\": \"\"}, \"colorscale\": [[0.0, \"#0d0887\"], [0.1111111111111111, \"#46039f\"], [0.2222222222222222, \"#7201a8\"], [0.3333333333333333, \"#9c179e\"], [0.4444444444444444, \"#bd3786\"], [0.5555555555555556, \"#d8576b\"], [0.6666666666666666, \"#ed7953\"], [0.7777777777777778, \"#fb9f3a\"], [0.8888888888888888, \"#fdca26\"], [1.0, \"#f0f921\"]], \"type\": \"heatmap\"}], \"heatmapgl\": [{\"colorbar\": {\"outlinewidth\": 0, \"ticks\": \"\"}, \"colorscale\": [[0.0, \"#0d0887\"], [0.1111111111111111, \"#46039f\"], [0.2222222222222222, \"#7201a8\"], [0.3333333333333333, \"#9c179e\"], [0.4444444444444444, \"#bd3786\"], [0.5555555555555556, \"#d8576b\"], [0.6666666666666666, \"#ed7953\"], [0.7777777777777778, \"#fb9f3a\"], [0.8888888888888888, \"#fdca26\"], [1.0, \"#f0f921\"]], \"type\": \"heatmapgl\"}], \"histogram\": [{\"marker\": {\"colorbar\": {\"outlinewidth\": 0, \"ticks\": \"\"}}, \"type\": \"histogram\"}], \"histogram2d\": [{\"colorbar\": {\"outlinewidth\": 0, \"ticks\": \"\"}, \"colorscale\": [[0.0, \"#0d0887\"], [0.1111111111111111, \"#46039f\"], [0.2222222222222222, \"#7201a8\"], [0.3333333333333333, \"#9c179e\"], [0.4444444444444444, \"#bd3786\"], [0.5555555555555556, \"#d8576b\"], [0.6666666666666666, \"#ed7953\"], [0.7777777777777778, \"#fb9f3a\"], [0.8888888888888888, \"#fdca26\"], [1.0, \"#f0f921\"]], \"type\": \"histogram2d\"}], \"histogram2dcontour\": [{\"colorbar\": {\"outlinewidth\": 0, \"ticks\": \"\"}, \"colorscale\": [[0.0, \"#0d0887\"], [0.1111111111111111, \"#46039f\"], [0.2222222222222222, \"#7201a8\"], [0.3333333333333333, \"#9c179e\"], [0.4444444444444444, \"#bd3786\"], [0.5555555555555556, \"#d8576b\"], [0.6666666666666666, \"#ed7953\"], [0.7777777777777778, \"#fb9f3a\"], [0.8888888888888888, \"#fdca26\"], [1.0, \"#f0f921\"]], \"type\": \"histogram2dcontour\"}], \"mesh3d\": [{\"colorbar\": {\"outlinewidth\": 0, \"ticks\": \"\"}, \"type\": \"mesh3d\"}], \"parcoords\": [{\"line\": {\"colorbar\": {\"outlinewidth\": 0, \"ticks\": \"\"}}, \"type\": \"parcoords\"}], \"pie\": [{\"automargin\": true, \"type\": \"pie\"}], \"scatter\": [{\"marker\": {\"colorbar\": {\"outlinewidth\": 0, \"ticks\": \"\"}}, \"type\": \"scatter\"}], \"scatter3d\": [{\"line\": {\"colorbar\": {\"outlinewidth\": 0, \"ticks\": \"\"}}, \"marker\": {\"colorbar\": {\"outlinewidth\": 0, \"ticks\": \"\"}}, \"type\": \"scatter3d\"}], \"scattercarpet\": [{\"marker\": {\"colorbar\": {\"outlinewidth\": 0, \"ticks\": \"\"}}, \"type\": \"scattercarpet\"}], \"scattergeo\": [{\"marker\": {\"colorbar\": {\"outlinewidth\": 0, \"ticks\": \"\"}}, \"type\": \"scattergeo\"}], \"scattergl\": [{\"marker\": {\"colorbar\": {\"outlinewidth\": 0, \"ticks\": \"\"}}, \"type\": \"scattergl\"}], \"scattermapbox\": [{\"marker\": {\"colorbar\": {\"outlinewidth\": 0, \"ticks\": \"\"}}, \"type\": \"scattermapbox\"}], \"scatterpolar\": [{\"marker\": {\"colorbar\": {\"outlinewidth\": 0, \"ticks\": \"\"}}, \"type\": \"scatterpolar\"}], \"scatterpolargl\": [{\"marker\": {\"colorbar\": {\"outlinewidth\": 0, \"ticks\": \"\"}}, \"type\": \"scatterpolargl\"}], \"scatterternary\": [{\"marker\": {\"colorbar\": {\"outlinewidth\": 0, \"ticks\": \"\"}}, \"type\": \"scatterternary\"}], \"surface\": [{\"colorbar\": {\"outlinewidth\": 0, \"ticks\": \"\"}, \"colorscale\": [[0.0, \"#0d0887\"], [0.1111111111111111, \"#46039f\"], [0.2222222222222222, \"#7201a8\"], [0.3333333333333333, \"#9c179e\"], [0.4444444444444444, \"#bd3786\"], [0.5555555555555556, \"#d8576b\"], [0.6666666666666666, \"#ed7953\"], [0.7777777777777778, \"#fb9f3a\"], [0.8888888888888888, \"#fdca26\"], [1.0, \"#f0f921\"]], \"type\": \"surface\"}], \"table\": [{\"cells\": {\"fill\": {\"color\": \"#EBF0F8\"}, \"line\": {\"color\": \"white\"}}, \"header\": {\"fill\": {\"color\": \"#C8D4E3\"}, \"line\": {\"color\": \"white\"}}, \"type\": \"table\"}]}, \"layout\": {\"annotationdefaults\": {\"arrowcolor\": \"#2a3f5f\", \"arrowhead\": 0, \"arrowwidth\": 1}, \"coloraxis\": {\"colorbar\": {\"outlinewidth\": 0, \"ticks\": \"\"}}, \"colorscale\": {\"diverging\": [[0, \"#8e0152\"], [0.1, \"#c51b7d\"], [0.2, \"#de77ae\"], [0.3, \"#f1b6da\"], [0.4, \"#fde0ef\"], [0.5, \"#f7f7f7\"], [0.6, \"#e6f5d0\"], [0.7, \"#b8e186\"], [0.8, \"#7fbc41\"], [0.9, \"#4d9221\"], [1, \"#276419\"]], \"sequential\": [[0.0, \"#0d0887\"], [0.1111111111111111, \"#46039f\"], [0.2222222222222222, \"#7201a8\"], [0.3333333333333333, \"#9c179e\"], [0.4444444444444444, \"#bd3786\"], [0.5555555555555556, \"#d8576b\"], [0.6666666666666666, \"#ed7953\"], [0.7777777777777778, \"#fb9f3a\"], [0.8888888888888888, \"#fdca26\"], [1.0, \"#f0f921\"]], \"sequentialminus\": [[0.0, \"#0d0887\"], [0.1111111111111111, \"#46039f\"], [0.2222222222222222, \"#7201a8\"], [0.3333333333333333, \"#9c179e\"], [0.4444444444444444, \"#bd3786\"], [0.5555555555555556, \"#d8576b\"], [0.6666666666666666, \"#ed7953\"], [0.7777777777777778, \"#fb9f3a\"], [0.8888888888888888, \"#fdca26\"], [1.0, \"#f0f921\"]]}, \"colorway\": [\"#636efa\", \"#EF553B\", \"#00cc96\", \"#ab63fa\", \"#FFA15A\", \"#19d3f3\", \"#FF6692\", \"#B6E880\", \"#FF97FF\", \"#FECB52\"], \"font\": {\"color\": \"#2a3f5f\"}, \"geo\": {\"bgcolor\": \"white\", \"lakecolor\": \"white\", \"landcolor\": \"#E5ECF6\", \"showlakes\": true, \"showland\": true, \"subunitcolor\": \"white\"}, \"hoverlabel\": {\"align\": \"left\"}, \"hovermode\": \"closest\", \"mapbox\": {\"style\": \"light\"}, \"paper_bgcolor\": \"white\", \"plot_bgcolor\": \"#E5ECF6\", \"polar\": {\"angularaxis\": {\"gridcolor\": \"white\", \"linecolor\": \"white\", \"ticks\": \"\"}, \"bgcolor\": \"#E5ECF6\", \"radialaxis\": {\"gridcolor\": \"white\", \"linecolor\": \"white\", \"ticks\": \"\"}}, \"scene\": {\"xaxis\": {\"backgroundcolor\": \"#E5ECF6\", \"gridcolor\": \"white\", \"gridwidth\": 2, \"linecolor\": \"white\", \"showbackground\": true, \"ticks\": \"\", \"zerolinecolor\": \"white\"}, \"yaxis\": {\"backgroundcolor\": \"#E5ECF6\", \"gridcolor\": \"white\", \"gridwidth\": 2, \"linecolor\": \"white\", \"showbackground\": true, \"ticks\": \"\", \"zerolinecolor\": \"white\"}, \"zaxis\": {\"backgroundcolor\": \"#E5ECF6\", \"gridcolor\": \"white\", \"gridwidth\": 2, \"linecolor\": \"white\", \"showbackground\": true, \"ticks\": \"\", \"zerolinecolor\": \"white\"}}, \"shapedefaults\": {\"line\": {\"color\": \"#2a3f5f\"}}, \"ternary\": {\"aaxis\": {\"gridcolor\": \"white\", \"linecolor\": \"white\", \"ticks\": \"\"}, \"baxis\": {\"gridcolor\": \"white\", \"linecolor\": \"white\", \"ticks\": \"\"}, \"bgcolor\": \"#E5ECF6\", \"caxis\": {\"gridcolor\": \"white\", \"linecolor\": \"white\", \"ticks\": \"\"}}, \"title\": {\"x\": 0.05}, \"xaxis\": {\"automargin\": true, \"gridcolor\": \"white\", \"linecolor\": \"white\", \"ticks\": \"\", \"title\": {\"standoff\": 15}, \"zerolinecolor\": \"white\", \"zerolinewidth\": 2}, \"yaxis\": {\"automargin\": true, \"gridcolor\": \"white\", \"linecolor\": \"white\", \"ticks\": \"\", \"title\": {\"standoff\": 15}, \"zerolinecolor\": \"white\", \"zerolinewidth\": 2}}}, \"title\": {\"text\": \"Offense\"}, \"xaxis\": {\"anchor\": \"y\", \"domain\": [0.0, 1.0], \"title\": {\"text\": \"data_year\"}}, \"yaxis\": {\"anchor\": \"x\", \"domain\": [0.0, 1.0], \"title\": {\"text\": \"actual\"}}},\n",
       "                        {\"responsive\": true}\n",
       "                    ).then(function(){\n",
       "                            \n",
       "var gd = document.getElementById('69009593-ebd8-42f1-a247-50146bde03ec');\n",
       "var x = new MutationObserver(function (mutations, observer) {{\n",
       "        var display = window.getComputedStyle(gd).display;\n",
       "        if (!display || display === 'none') {{\n",
       "            console.log([gd, 'removed!']);\n",
       "            Plotly.purge(gd);\n",
       "            observer.disconnect();\n",
       "        }}\n",
       "}});\n",
       "\n",
       "// Listen for the removal of the full notebook cells\n",
       "var notebookContainer = gd.closest('#notebook-container');\n",
       "if (notebookContainer) {{\n",
       "    x.observe(notebookContainer, {childList: true});\n",
       "}}\n",
       "\n",
       "// Listen for the clearing of the current output cell\n",
       "var outputEl = gd.closest('.output');\n",
       "if (outputEl) {{\n",
       "    x.observe(outputEl, {childList: true});\n",
       "}}\n",
       "\n",
       "                        })\n",
       "                };\n",
       "                });\n",
       "            </script>\n",
       "        </div>"
      ]
     },
     "metadata": {},
     "output_type": "display_data"
    },
    {
     "data": {
      "text/plain": [
       "<Figure size 2160x1080 with 0 Axes>"
      ]
     },
     "metadata": {},
     "output_type": "display_data"
    }
   ],
   "source": [
    "#Graph 4 : Bar Plot\n",
    "plt.figure(figsize=(30,15))\n",
    "fig = px.bar(df1, x=\"data_year\", y=\"actual\", color=\"offense\", title=\"Offense\")\n",
    "fig.show()"
   ]
  },
  {
   "cell_type": "markdown",
   "metadata": {},
   "source": [
    "# Applying Classification Methods"
   ]
  },
  {
   "cell_type": "code",
   "execution_count": 26,
   "metadata": {},
   "outputs": [],
   "source": [
    "df1.offense =df1.offense.replace(\"aggravated-assault\",0)\n",
    "df1.offense =df1.offense.replace(\"arson\",1)\n",
    "df1.offense =df1.offense.replace(\"burglary\",2)\n",
    "df1.offense =df1.offense.replace(\"homicide\",3)\n",
    "df1.offense =df1.offense.replace(\"human-trafficing\",4)\n",
    "df1.offense =df1.offense.replace(\"larceny\",5)\n",
    "df1.offense =df1.offense.replace(\"motor-vehicle-theft\",6)\n",
    "df1.offense =df1.offense.replace(\"property-crime\",7)\n",
    "df1.offense =df1.offense.replace(\"rape\",8)\n",
    "df1.offense =df1.offense.replace(\"rape-legacy\",9)\n",
    "df1.offense =df1.offense.replace(\"robbery\",10)\n",
    "df1.offense =df1.offense.replace(\"violent-crime\",11)"
   ]
  },
  {
   "cell_type": "code",
   "execution_count": 27,
   "metadata": {},
   "outputs": [],
   "source": [
    "X=df1.drop(['state_abbr','ori','offense'],axis=1)\n",
    "y=df1.offense"
   ]
  },
  {
   "cell_type": "code",
   "execution_count": 28,
   "metadata": {},
   "outputs": [],
   "source": [
    "from sklearn.model_selection import train_test_split\n",
    "X_train, X_test, y_train, y_test = train_test_split(X, y, test_size=0.33, random_state=42)"
   ]
  },
  {
   "cell_type": "code",
   "execution_count": 29,
   "metadata": {},
   "outputs": [
    {
     "data": {
      "text/plain": [
       "0.7954545454545454"
      ]
     },
     "execution_count": 29,
     "metadata": {},
     "output_type": "execute_result"
    }
   ],
   "source": [
    "from sklearn.neighbors import KNeighborsClassifier\n",
    "from sklearn import neighbors\n",
    "knn = KNeighborsClassifier(n_neighbors=3)\n",
    "knn.fit(X_train, y_train)\n",
    "ypred = knn.predict(X_test)\n",
    "knn.score(X_test, y_test)"
   ]
  },
  {
   "cell_type": "code",
   "execution_count": 30,
   "metadata": {},
   "outputs": [
    {
     "data": {
      "text/plain": [
       "0.4772727272727273"
      ]
     },
     "execution_count": 30,
     "metadata": {},
     "output_type": "execute_result"
    }
   ],
   "source": [
    "from sklearn.ensemble import RandomForestClassifier\n",
    "clf = RandomForestClassifier(n_estimators=100, max_depth=None,\n",
    "    min_samples_split=2, random_state=0)\n",
    "clf.fit(X_train, y_train)\n",
    "ypred = clf.predict(X_test)\n",
    "clf.score(X_test, y_test)"
   ]
  }
 ],
 "metadata": {
  "kernelspec": {
   "display_name": "Python 3",
   "language": "python",
   "name": "python3"
  },
  "language_info": {
   "codemirror_mode": {
    "name": "ipython",
    "version": 3
   },
   "file_extension": ".py",
   "mimetype": "text/x-python",
   "name": "python",
   "nbconvert_exporter": "python",
   "pygments_lexer": "ipython3",
   "version": "3.8.3"
  }
 },
 "nbformat": 4,
 "nbformat_minor": 4
}
